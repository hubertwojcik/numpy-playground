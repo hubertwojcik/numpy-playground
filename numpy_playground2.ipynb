{
 "cells": [
  {
   "cell_type": "code",
   "execution_count": 3,
   "id": "6e3eac14-5172-45ff-81a3-360a6c0271cc",
   "metadata": {},
   "outputs": [],
   "source": [
    "import numpy as np\n",
    "import matplotlib as plt"
   ]
  },
  {
   "cell_type": "markdown",
   "id": "82831617-5cb2-4006-95f6-2967309574e5",
   "metadata": {},
   "source": [
    "## Slicing"
   ]
  },
  {
   "cell_type": "code",
   "execution_count": 27,
   "id": "6b01bda6-ba7b-4b72-9a99-214687525f4e",
   "metadata": {},
   "outputs": [
    {
     "name": "stdout",
     "output_type": "stream",
     "text": [
      "[3 4 0]\n",
      "[3 8 6]\n",
      "[4 0]\n",
      "[4 8]\n",
      "[4 3 6]\n"
     ]
    }
   ],
   "source": [
    "# x[begin:end:step]\n",
    "\n",
    "# Jednowymiarowe tablice\n",
    "x1 = np.array([3, 4, 0, 3, 8 ,6])\n",
    "print(x1[:3])\n",
    "print(x1[3:])\n",
    "print(x1[1:3])\n",
    "print(x1[[1,4]])\n",
    "print(x1[1::2])"
   ]
  },
  {
   "cell_type": "code",
   "execution_count": 29,
   "id": "f6c74986-314e-49df-975d-717ae33199f3",
   "metadata": {},
   "outputs": [],
   "source": [
    "# Wielowymiarowe tablice"
   ]
  },
  {
   "cell_type": "code",
   "execution_count": 49,
   "id": "6facaaf3-e41e-46e3-8312-ee7d2f7f616f",
   "metadata": {},
   "outputs": [
    {
     "data": {
      "text/plain": [
       "array([12,  1,  3,  7])"
      ]
     },
     "execution_count": 49,
     "metadata": {},
     "output_type": "execute_result"
    }
   ],
   "source": [
    "x2 = np.array([[12, 1, 3, 7],[4, 0, 2, 3], [0, 0, 6, 9]])\n",
    "x2[:2, :3]\n",
    "x2[:3, ::2]\n",
    "x2[::-1, ::-1]\n",
    "x2[:,0]\n",
    "x2[0,:]"
   ]
  },
  {
   "cell_type": "code",
   "execution_count": null,
   "id": "09579e4d-64f6-44b5-8ea1-eb6fe7197822",
   "metadata": {},
   "outputs": [],
   "source": [
    "# Podtablice jako widoki bez kopiowania"
   ]
  },
  {
   "cell_type": "code",
   "execution_count": 53,
   "id": "b299bfcb-40d2-46f6-8971-3bb368c6063f",
   "metadata": {},
   "outputs": [
    {
     "data": {
      "text/plain": [
       "array([[12,  1],\n",
       "       [ 4,  0]])"
      ]
     },
     "execution_count": 53,
     "metadata": {},
     "output_type": "execute_result"
    }
   ],
   "source": [
    "x2_sub = x2[:2,:2]\n",
    "x2_sub"
   ]
  },
  {
   "cell_type": "code",
   "execution_count": null,
   "id": "807ae6ef-e135-4d97-b0c7-8ecb6cc7e3b3",
   "metadata": {},
   "outputs": [],
   "source": [
    "# Kopiowanie tablicy"
   ]
  },
  {
   "cell_type": "code",
   "execution_count": 57,
   "id": "052b86e6-b416-4e9a-8c8b-72e45ed27a39",
   "metadata": {},
   "outputs": [
    {
     "data": {
      "text/plain": [
       "array([[12,  1],\n",
       "       [ 4,  0]])"
      ]
     },
     "execution_count": 57,
     "metadata": {},
     "output_type": "execute_result"
    }
   ],
   "source": [
    "x2_sub_copy = x2[:2,:2].copy()\n",
    "x2_sub_copy"
   ]
  },
  {
   "cell_type": "markdown",
   "id": "4bba8530-5a22-4385-b979-ef6665646ce3",
   "metadata": {},
   "source": [
    "## Zmiana kształtu"
   ]
  },
  {
   "cell_type": "code",
   "execution_count": 62,
   "id": "74cd9064-78d0-40ec-8652-e3a527ca3c12",
   "metadata": {},
   "outputs": [
    {
     "data": {
      "text/plain": [
       "array([[1, 2, 3],\n",
       "       [4, 5, 6],\n",
       "       [7, 8, 9]])"
      ]
     },
     "execution_count": 62,
     "metadata": {},
     "output_type": "execute_result"
    }
   ],
   "source": [
    "grid = np.arange(1, 10).reshape(3, 3)"
   ]
  },
  {
   "cell_type": "code",
   "execution_count": 72,
   "id": "55bfad84-bdf3-467c-961e-fd650c09450a",
   "metadata": {},
   "outputs": [],
   "source": [
    "x  = np.array([1, 2, 3])\n"
   ]
  },
  {
   "cell_type": "code",
   "execution_count": 74,
   "id": "f4f80065-ff42-4aa6-8951-a9b5546ca696",
   "metadata": {},
   "outputs": [
    {
     "data": {
      "text/plain": [
       "array([[1, 2, 3]])"
      ]
     },
     "execution_count": 74,
     "metadata": {},
     "output_type": "execute_result"
    }
   ],
   "source": [
    "# Wektor wierszowy\n",
    "x[np.newaxis,:]"
   ]
  },
  {
   "cell_type": "code",
   "execution_count": 76,
   "id": "255913ac-1946-44ec-9fe2-38b0c7d41c53",
   "metadata": {},
   "outputs": [
    {
     "data": {
      "text/plain": [
       "array([[1],\n",
       "       [2],\n",
       "       [3]])"
      ]
     },
     "execution_count": 76,
     "metadata": {},
     "output_type": "execute_result"
    }
   ],
   "source": [
    "# Wektor kolumnowy\n",
    "x[:,np.newaxis]"
   ]
  },
  {
   "cell_type": "markdown",
   "id": "747c3b77-b14b-4844-a654-a34102979dc2",
   "metadata": {},
   "source": [
    "## Konkatenacja"
   ]
  },
  {
   "cell_type": "code",
   "execution_count": 89,
   "id": "36cb8bd2-6708-4d2a-b960-c2406129892c",
   "metadata": {},
   "outputs": [
    {
     "data": {
      "text/plain": [
       "array([1, 2, 3, 3, 2, 1])"
      ]
     },
     "execution_count": 89,
     "metadata": {},
     "output_type": "execute_result"
    }
   ],
   "source": [
    "x = np.array([1, 2, 3])\n",
    "y = np.array([3, 2, 1])\n",
    "np.concatenate([x, y])"
   ]
  },
  {
   "cell_type": "code",
   "execution_count": 91,
   "id": "f667b2ef-eb6a-4155-a253-f3adc2cfb474",
   "metadata": {},
   "outputs": [],
   "source": [
    "grid = np.array([[1, 2, 3],[4, 5, 6]])"
   ]
  },
  {
   "cell_type": "code",
   "execution_count": 97,
   "id": "3aebb62b-0552-4095-a66d-c0d9d9e3f081",
   "metadata": {},
   "outputs": [
    {
     "data": {
      "text/plain": [
       "array([[1, 2, 3],\n",
       "       [4, 5, 6],\n",
       "       [1, 2, 3],\n",
       "       [4, 5, 6]])"
      ]
     },
     "execution_count": 97,
     "metadata": {},
     "output_type": "execute_result"
    }
   ],
   "source": [
    "# Konkatencja wzdłuż pierwszej osi ,axis 0\n",
    "np.concatenate([grid, grid])"
   ]
  },
  {
   "cell_type": "code",
   "execution_count": 99,
   "id": "257ef1f9-f02b-4195-bc0f-bfa79ad39330",
   "metadata": {},
   "outputs": [
    {
     "data": {
      "text/plain": [
       "array([[1, 2, 3, 1, 2, 3],\n",
       "       [4, 5, 6, 4, 5, 6]])"
      ]
     },
     "execution_count": 99,
     "metadata": {},
     "output_type": "execute_result"
    }
   ],
   "source": [
    "np.concatenate([grid,grid], axis  = 1)"
   ]
  },
  {
   "cell_type": "code",
   "execution_count": 101,
   "id": "0cbc6568-d983-4402-8f24-4f491a3d0263",
   "metadata": {},
   "outputs": [
    {
     "data": {
      "text/plain": [
       "array([[1, 2, 3],\n",
       "       [1, 2, 3],\n",
       "       [4, 5, 6]])"
      ]
     },
     "execution_count": 101,
     "metadata": {},
     "output_type": "execute_result"
    }
   ],
   "source": [
    "# łczenie tablic w pionie (Dokładamy wiersze czyli V stack działa w osi 0)\n",
    "np.vstack([x, grid])"
   ]
  },
  {
   "cell_type": "code",
   "execution_count": 109,
   "id": "e6794c63-6cfa-4cb9-bead-8a69144c9fe3",
   "metadata": {},
   "outputs": [
    {
     "data": {
      "text/plain": [
       "array([[ 1,  2,  3, 99],\n",
       "       [ 4,  5,  6, 99]])"
      ]
     },
     "execution_count": 109,
     "metadata": {},
     "output_type": "execute_result"
    }
   ],
   "source": [
    "# łaczenie w poziomie\n",
    "y =np.array([[99],[99]])\n",
    "np.hstack([grid, y])"
   ]
  },
  {
   "cell_type": "code",
   "execution_count": 111,
   "id": "0c3361f7-b732-4d41-add6-aaaac433321d",
   "metadata": {},
   "outputs": [],
   "source": [
    "# Dzielenie tablic\n",
    "grid = np.arange(16).reshape(4,4)"
   ]
  },
  {
   "cell_type": "code",
   "execution_count": 113,
   "id": "9b8a4dd6-2e72-42e5-bc8f-46e4bfa5fc0c",
   "metadata": {},
   "outputs": [],
   "source": [
    "upper, lower = np.vsplit(grid, [2])"
   ]
  }
 ],
 "metadata": {
  "kernelspec": {
   "display_name": "Python [conda env:base] *",
   "language": "python",
   "name": "conda-base-py"
  },
  "language_info": {
   "codemirror_mode": {
    "name": "ipython",
    "version": 3
   },
   "file_extension": ".py",
   "mimetype": "text/x-python",
   "name": "python",
   "nbconvert_exporter": "python",
   "pygments_lexer": "ipython3",
   "version": "3.12.7"
  }
 },
 "nbformat": 4,
 "nbformat_minor": 5
}
