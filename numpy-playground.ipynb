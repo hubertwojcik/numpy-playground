{
 "cells": [
  {
   "cell_type": "markdown",
   "id": "4b079275",
   "metadata": {},
   "source": [
    "## 1.1. Podstawowe struktury danych"
   ]
  },
  {
   "cell_type": "code",
   "execution_count": 3,
   "id": "b65007a7",
   "metadata": {},
   "outputs": [],
   "source": [
    "import numpy as np"
   ]
  },
  {
   "cell_type": "markdown",
   "id": "9c50ca5a",
   "metadata": {},
   "source": [
    "### Ćwiczenie 1: Tworzenie jednowymiarowej tablicy\n",
    "Stwórz jednowymiarową tablicę NumPy zawierającą liczby całkowite od 10 do 20 włącznie. Skorzystaj z funkcji\n",
    "np.arange()."
   ]
  },
  {
   "cell_type": "code",
   "execution_count": 2,
   "id": "94f0d648",
   "metadata": {},
   "outputs": [
    {
     "name": "stdout",
     "output_type": "stream",
     "text": [
      "[10 11 12 13 14 15 16 17 18 19 20]\n"
     ]
    }
   ],
   "source": [
    "arr = np.arange(10,21)\n",
    "print(arr)"
   ]
  },
  {
   "cell_type": "markdown",
   "id": "8d88a54e",
   "metadata": {},
   "source": [
    "### Ćwiczenie 2: Tworzenie tablicy wielowymiarowej\n",
    "Utwórz dwuwymiarową tablicę o wymiarach 3x4, wypełnioną liczbami zmiennoprzecinkowymi od 1.0 do 12.0.\n",
    "Możesz użyć funkcji np.reshape()."
   ]
  },
  {
   "cell_type": "code",
   "execution_count": 7,
   "id": "03fdd27d",
   "metadata": {},
   "outputs": [
    {
     "name": "stdout",
     "output_type": "stream",
     "text": [
      "[[ 1.  2.  3.  4.]\n",
      " [ 5.  6.  7.  8.]\n",
      " [ 9. 10. 11. 12.]]\n"
     ]
    }
   ],
   "source": [
    "arr = np.arange(1,13, dtype=float).reshape(3,4)\n",
    "print(arr)"
   ]
  },
  {
   "cell_type": "markdown",
   "id": "84d09f23-cacd-42d4-bb58-2f3eda73eba3",
   "metadata": {},
   "source": [
    "### Ćwiczenie 3: Tablica zerowa\n",
    "Stwórz dwuwymiarową tablicę 5x5 wypełnioną samymi zerami. Wykorzystaj funkcję np.zeros()."
   ]
  },
  {
   "cell_type": "code",
   "execution_count": 14,
   "id": "0e144e37-6897-4291-8ad2-a3548d0e2ac3",
   "metadata": {},
   "outputs": [
    {
     "name": "stdout",
     "output_type": "stream",
     "text": [
      "[[0. 0. 0. 0. 0.]\n",
      " [0. 0. 0. 0. 0.]\n",
      " [0. 0. 0. 0. 0.]\n",
      " [0. 0. 0. 0. 0.]\n",
      " [0. 0. 0. 0. 0.]]\n"
     ]
    }
   ],
   "source": [
    "arr = np.zeros((5,5))\n",
    "print(arr)"
   ]
  },
  {
   "cell_type": "markdown",
   "id": "e6d6ec04-1fb0-4575-bec9-26e86a2ac63c",
   "metadata": {},
   "source": [
    "### Ćwiczenie 4: Tablica jednostkowa\n",
    "Stwórz tablicę jednostkową (macierz jednostkową) o rozmiarze 4x4. Skorzystaj z funkcji np.eye()."
   ]
  },
  {
   "cell_type": "code",
   "execution_count": 21,
   "id": "6947fd9b-25aa-41c0-a747-9a4fd02244da",
   "metadata": {},
   "outputs": [
    {
     "name": "stdout",
     "output_type": "stream",
     "text": [
      "[[1. 0. 0. 0.]\n",
      " [0. 1. 0. 0.]\n",
      " [0. 0. 1. 0.]\n",
      " [0. 0. 0. 1.]]\n"
     ]
    }
   ],
   "source": [
    "arr = np.eye((4))\n",
    "print(arr)"
   ]
  },
  {
   "cell_type": "markdown",
   "id": "c5a5ca0c-f1a8-44d8-a79c-f16c64587c86",
   "metadata": {},
   "source": [
    "### Ćwiczenie 5: Tablica wypełniona stałą wartością\n",
    "Utwórz tablicę jednowymiarową z pięcioma elementami, wypełnioną wartością 7. Użyj funkcji np.full()."
   ]
  },
  {
   "cell_type": "code",
   "execution_count": 24,
   "id": "41c72bc6-af53-41aa-8529-7fa1e94501e2",
   "metadata": {},
   "outputs": [
    {
     "name": "stdout",
     "output_type": "stream",
     "text": [
      "[7 7 7 7 7]\n"
     ]
    }
   ],
   "source": [
    "arr = np.full(5,7)\n",
    "print(arr)"
   ]
  },
  {
   "cell_type": "markdown",
   "id": "22f4ee19-897c-47cf-8b4e-bcea4efe782f",
   "metadata": {},
   "source": [
    "### Ćwiczenie 6: Tworzenie tablicy z zakresu liczb\n",
    "Stwórz tablicę NumPy zawierającą liczby z zakresu od 0 do 1 z krokiem 0.1. Skorzystaj z funkcji np.linspace()."
   ]
  },
  {
   "cell_type": "code",
   "execution_count": 31,
   "id": "99fe7034-aef9-4785-b68f-9bb4725e254b",
   "metadata": {},
   "outputs": [
    {
     "name": "stdout",
     "output_type": "stream",
     "text": [
      "[0.  0.1 0.2 0.3 0.4 0.5 0.6 0.7 0.8 0.9 1. ]\n"
     ]
    }
   ],
   "source": [
    "arr = np.linspace(0, 1 ,11)\n",
    "print(arr)"
   ]
  },
  {
   "cell_type": "markdown",
   "id": "db8582a5-a3f6-44b9-b1df-7b0501564913",
   "metadata": {},
   "source": [
    "### Ćwiczenie 7: Losowa tablica\n",
    "Wygeneruj dwuwymiarową tablicę o wymiarach 10x10, wypełnioną losowymi liczbami zmiennoprzecinkowymi z\n",
    "zakresu od 0 do 1. Skorzystaj z funkcji np.random.random()."
   ]
  },
  {
   "cell_type": "code",
   "execution_count": 46,
   "id": "91598e5f-54eb-473d-accd-cc8bbc293ade",
   "metadata": {},
   "outputs": [
    {
     "name": "stdout",
     "output_type": "stream",
     "text": [
      "[[0.8313823  0.54443505 0.04734336 0.26614442 0.78289944 0.88500501\n",
      "  0.35161339 0.96571668 0.98917269 0.14678887]\n",
      " [0.72046988 0.53581194 0.33515576 0.95539428 0.90571999 0.20298515\n",
      "  0.01575665 0.20512353 0.46610601 0.25833633]\n",
      " [0.95885815 0.70838431 0.12757743 0.95957558 0.88165156 0.9743313\n",
      "  0.94815492 0.13685474 0.88494842 0.0988526 ]\n",
      " [0.1013459  0.68334823 0.36211927 0.41535209 0.42919398 0.28039127\n",
      "  0.5536312  0.37171    0.60150452 0.56594372]\n",
      " [0.12155671 0.5786115  0.14398863 0.58132945 0.21069929 0.83813744\n",
      "  0.26655941 0.67107019 0.90497505 0.61397354]\n",
      " [0.77939064 0.31726959 0.59790655 0.12135986 0.88124199 0.04972112\n",
      "  0.01687789 0.65231644 0.21006546 0.89397034]\n",
      " [0.55375653 0.66366797 0.57435448 0.59429174 0.42654926 0.08942588\n",
      "  0.60061432 0.11363088 0.88339    0.40086747]\n",
      " [0.40461144 0.9862472  0.33714713 0.29044049 0.59664613 0.13608377\n",
      "  0.01321889 0.82322617 0.01661618 0.92425897]\n",
      " [0.17072916 0.23256145 0.11746266 0.67328275 0.5331437  0.39055432\n",
      "  0.81248853 0.81746573 0.71554491 0.57067962]\n",
      " [0.06987245 0.76995876 0.78532506 0.21638743 0.30607479 0.48941749\n",
      "  0.07603498 0.74640183 0.89322865 0.86175859]]\n"
     ]
    }
   ],
   "source": [
    "arr = np.random.random((10,10))\n",
    "print(arr)"
   ]
  },
  {
   "cell_type": "markdown",
   "id": "58522417-9517-4de6-856b-8abfe5ea6167",
   "metadata": {},
   "source": [
    "### Ćwiczenie 8: Tablica z losowymi liczbami całkowitymi\n",
    "Utwórz tablicę 6x6 wypełnioną losowymi liczbami całkowitymi z przedziału od 0 do 100. Użyj funkcji\n",
    "np.random.randint()."
   ]
  },
  {
   "cell_type": "code",
   "execution_count": 55,
   "id": "c38c865e-ceec-4f50-a3d8-1e7d4ee8184c",
   "metadata": {},
   "outputs": [
    {
     "name": "stdout",
     "output_type": "stream",
     "text": [
      "[[86 66 68 85 10 67]\n",
      " [72 93 37 70 25 67]\n",
      " [66 49 85 76 22 38]\n",
      " [21  3 79 26 82 31]\n",
      " [25 92 64 62 39 33]\n",
      " [32 84 49 66 78 13]]\n"
     ]
    }
   ],
   "source": [
    "arr = np.random.randint(0,101,(6,6))\n",
    "print(arr)"
   ]
  },
  {
   "cell_type": "markdown",
   "id": "d55e21c2-2b98-4207-9ef1-09eb94ca9553",
   "metadata": {},
   "source": [
    "### Ćwiczenie 9: Tablica z wartością początkową, krokiem i wymiarem\n",
    "Stwórz tablicę jednowymiarową z wartościami zaczynającymi się od 5, z krokiem 2, o długości 10 elementów. Użyj\n",
    "funkcji np.arange()."
   ]
  },
  {
   "cell_type": "code",
   "execution_count": 62,
   "id": "ea4196da-ff0c-42d4-849a-075128950d47",
   "metadata": {},
   "outputs": [
    {
     "name": "stdout",
     "output_type": "stream",
     "text": [
      "[ 5  7  9 11 13 15 17 19 21 23]\n"
     ]
    }
   ],
   "source": [
    "arr = np.arange(5,25,2)\n",
    "print(arr)"
   ]
  },
  {
   "cell_type": "markdown",
   "id": "ba5222ab-9634-4520-b6bc-cbdbe3fe0587",
   "metadata": {},
   "source": [
    "### Ćwiczenie 10: Zmienianie kształtu tablicy\n",
    "Stwórz jednowymiarową tablicę zawierającą liczby od 1 do 16, a następnie przekształć ją w tablicę o wymiarach\n",
    "4x4. Użyj funkcji np.reshape()."
   ]
  },
  {
   "cell_type": "code",
   "execution_count": 67,
   "id": "86d5c585-b6d5-483a-b004-e360bbde90fe",
   "metadata": {},
   "outputs": [
    {
     "name": "stdout",
     "output_type": "stream",
     "text": [
      "[[ 1  2  3  4]\n",
      " [ 5  6  7  8]\n",
      " [ 9 10 11 12]\n",
      " [13 14 15 16]]\n"
     ]
    }
   ],
   "source": [
    "arr = np.arange(1,17).reshape(4,4)\n",
    "print(arr)"
   ]
  },
  {
   "cell_type": "markdown",
   "id": "a5cf0bde-13ee-4b67-90f5-4ade79672428",
   "metadata": {},
   "source": [
    "### Ćwiczenie 11: Tworzenie tablicy z określonym typem danych\n",
    "Stwórz jednowymiarową tablicę NumPy zawierającą liczby całkowite od 1 do 10, ale upewnij się, że typ danych tablicy to float64."
   ]
  },
  {
   "cell_type": "code",
   "execution_count": 83,
   "id": "361eda21-96dc-4041-bfa6-3e0a1330847c",
   "metadata": {},
   "outputs": [
    {
     "name": "stdout",
     "output_type": "stream",
     "text": [
      "[ 1.  2.  3.  4.  5.  6.  7.  8.  9. 10.]\n"
     ]
    }
   ],
   "source": [
    "arr = np.arange(1,11,dtype=np.float64)\n",
    "print(arr)"
   ]
  },
  {
   "cell_type": "markdown",
   "id": "e348e476-b84c-438e-a935-15cd65e2bd1c",
   "metadata": {},
   "source": [
    "### Ćwiczenie 12: Zmiana typu danych istniejącej tablicy\n",
    "Utwórz tablicę NumPy z liczbami całkowitymi od 10 do 20, a następnie zmień typ danych tej tablicy na int16."
   ]
  },
  {
   "cell_type": "code",
   "execution_count": 89,
   "id": "ed8e2e8b-f6a1-4c78-b2f4-fdc48985d149",
   "metadata": {},
   "outputs": [
    {
     "name": "stdout",
     "output_type": "stream",
     "text": [
      "[10 11 12 13 14 15 16 17 18 19 20]\n"
     ]
    }
   ],
   "source": [
    "arr = np.arange(10,21,dtype=np.float32).astype(np.int16)\n",
    "print(arr)"
   ]
  },
  {
   "cell_type": "markdown",
   "id": "f448566d-6800-44b6-9312-b892a81ecf75",
   "metadata": {},
   "source": [
    "### Ćwiczenie 13: Tworzenie tablicy z wartościami zmiennoprzecinkowymi\n",
    "Stwórz dwuwymiarową tablicę NumPy o wymiarach 4x4 wypełnioną losowymi wartościami zmiennoprzecinko\n",
    "wymi z zakresu od 0 do 1, z typem danych float32"
   ]
  },
  {
   "cell_type": "code",
   "execution_count": 108,
   "id": "3c7fbfc2-bede-48cd-a725-acddcc069454",
   "metadata": {},
   "outputs": [
    {
     "name": "stdout",
     "output_type": "stream",
     "text": [
      "[[0.13577408 0.4903139  0.4724693  0.9215464 ]\n",
      " [0.4187673  0.15902935 0.27364597 0.3821887 ]\n",
      " [0.35826197 0.24577077 0.8810874  0.41435784]\n",
      " [0.63716495 0.47177032 0.21950085 0.18080735]]\n"
     ]
    }
   ],
   "source": [
    "arr = np.random.random((4,4)).astype(np.float32)\n",
    "print(arr)"
   ]
  },
  {
   "cell_type": "markdown",
   "id": "62a63ca5-bb87-4512-bb02-0f17ab97c3a4",
   "metadata": {},
   "source": [
    "### Ćwiczenie 14: Sprawdzenie typu danych tablicy\n",
    "Utwórz tablicę NumPy zawierającą liczby od 1 do 5, a następnie sprawdź i wyświetl typ danych tej tablicy."
   ]
  },
  {
   "cell_type": "code",
   "execution_count": 119,
   "id": "7c12ced8-1711-4212-b7d3-d4e5c4a25d38",
   "metadata": {},
   "outputs": [
    {
     "data": {
      "text/plain": [
       "dtype('int64')"
      ]
     },
     "execution_count": 119,
     "metadata": {},
     "output_type": "execute_result"
    }
   ],
   "source": [
    "arr = np.arange(1,6)\n",
    "arr.dtype"
   ]
  },
  {
   "cell_type": "markdown",
   "id": "effd96f3-0a8a-40bb-acbf-2600b8a5cd5d",
   "metadata": {},
   "source": [
    "### Ćwiczenie 15: Tworzenie tablicy logicznej\n",
    "Stwórz tablicę NumPy o wymiarach 3x3 wypełnioną wartościami logicznymi (True i False), używając typu danych\n",
    "bool."
   ]
  },
  {
   "cell_type": "code",
   "execution_count": 122,
   "id": "330e835c-70e1-44b5-877e-a9174afe1c4e",
   "metadata": {},
   "outputs": [],
   "source": [
    "logiczna = np.array([[True, False, True],\n",
    "[False, True, False],\n",
    "[True, False, True]], dtype=bool)"
   ]
  }
 ],
 "metadata": {
  "kernelspec": {
   "display_name": "Python [conda env:base] *",
   "language": "python",
   "name": "conda-base-py"
  },
  "language_info": {
   "codemirror_mode": {
    "name": "ipython",
    "version": 3
   },
   "file_extension": ".py",
   "mimetype": "text/x-python",
   "name": "python",
   "nbconvert_exporter": "python",
   "pygments_lexer": "ipython3",
   "version": "3.12.7"
  }
 },
 "nbformat": 4,
 "nbformat_minor": 5
}
