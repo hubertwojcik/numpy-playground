{
 "cells": [
  {
   "cell_type": "markdown",
   "id": "4b079275",
   "metadata": {},
   "source": [
    "## 1.1. Podstawowe struktury danych"
   ]
  },
  {
   "cell_type": "code",
   "execution_count": 1,
   "id": "b65007a7",
   "metadata": {},
   "outputs": [],
   "source": [
    "import numpy as np\n",
    "import matplotlib.pyplot as plt\n",
    "import seaborn as sns\n",
    "import pandas as pd"
   ]
  },
  {
   "cell_type": "markdown",
   "id": "9c50ca5a",
   "metadata": {},
   "source": [
    "### Ćwiczenie 1: Tworzenie jednowymiarowej tablicy\n",
    "Stwórz jednowymiarową tablicę NumPy zawierającą liczby całkowite od 10 do 20 włącznie. Skorzystaj z funkcji\n",
    "np.arange()."
   ]
  },
  {
   "cell_type": "code",
   "execution_count": 2,
   "id": "94f0d648",
   "metadata": {},
   "outputs": [
    {
     "name": "stdout",
     "output_type": "stream",
     "text": [
      "[10 11 12 13 14 15 16 17 18 19 20]\n"
     ]
    }
   ],
   "source": [
    "arr = np.arange(10,21)\n",
    "print(arr)"
   ]
  },
  {
   "cell_type": "markdown",
   "id": "8d88a54e",
   "metadata": {},
   "source": [
    "### Ćwiczenie 2: Tworzenie tablicy wielowymiarowej\n",
    "Utwórz dwuwymiarową tablicę o wymiarach 3x4, wypełnioną liczbami zmiennoprzecinkowymi od 1.0 do 12.0.\n",
    "Możesz użyć funkcji np.reshape()."
   ]
  },
  {
   "cell_type": "code",
   "execution_count": 7,
   "id": "03fdd27d",
   "metadata": {},
   "outputs": [
    {
     "name": "stdout",
     "output_type": "stream",
     "text": [
      "[[ 1.  2.  3.  4.]\n",
      " [ 5.  6.  7.  8.]\n",
      " [ 9. 10. 11. 12.]]\n"
     ]
    }
   ],
   "source": [
    "arr = np.arange(1,13, dtype=float).reshape(3,4)\n",
    "print(arr)"
   ]
  },
  {
   "cell_type": "markdown",
   "id": "84d09f23-cacd-42d4-bb58-2f3eda73eba3",
   "metadata": {},
   "source": [
    "### Ćwiczenie 3: Tablica zerowa\n",
    "Stwórz dwuwymiarową tablicę 5x5 wypełnioną samymi zerami. Wykorzystaj funkcję np.zeros()."
   ]
  },
  {
   "cell_type": "code",
   "execution_count": 14,
   "id": "0e144e37-6897-4291-8ad2-a3548d0e2ac3",
   "metadata": {},
   "outputs": [
    {
     "name": "stdout",
     "output_type": "stream",
     "text": [
      "[[0. 0. 0. 0. 0.]\n",
      " [0. 0. 0. 0. 0.]\n",
      " [0. 0. 0. 0. 0.]\n",
      " [0. 0. 0. 0. 0.]\n",
      " [0. 0. 0. 0. 0.]]\n"
     ]
    }
   ],
   "source": [
    "arr = np.zeros((5,5))\n",
    "print(arr)"
   ]
  },
  {
   "cell_type": "markdown",
   "id": "e6d6ec04-1fb0-4575-bec9-26e86a2ac63c",
   "metadata": {},
   "source": [
    "### Ćwiczenie 4: Tablica jednostkowa\n",
    "Stwórz tablicę jednostkową (macierz jednostkową) o rozmiarze 4x4. Skorzystaj z funkcji np.eye()."
   ]
  },
  {
   "cell_type": "code",
   "execution_count": 21,
   "id": "6947fd9b-25aa-41c0-a747-9a4fd02244da",
   "metadata": {},
   "outputs": [
    {
     "name": "stdout",
     "output_type": "stream",
     "text": [
      "[[1. 0. 0. 0.]\n",
      " [0. 1. 0. 0.]\n",
      " [0. 0. 1. 0.]\n",
      " [0. 0. 0. 1.]]\n"
     ]
    }
   ],
   "source": [
    "arr = np.eye((4))\n",
    "print(arr)"
   ]
  },
  {
   "cell_type": "markdown",
   "id": "c5a5ca0c-f1a8-44d8-a79c-f16c64587c86",
   "metadata": {},
   "source": [
    "### Ćwiczenie 5: Tablica wypełniona stałą wartością\n",
    "Utwórz tablicę jednowymiarową z pięcioma elementami, wypełnioną wartością 7. Użyj funkcji np.full()."
   ]
  },
  {
   "cell_type": "code",
   "execution_count": 24,
   "id": "41c72bc6-af53-41aa-8529-7fa1e94501e2",
   "metadata": {},
   "outputs": [
    {
     "name": "stdout",
     "output_type": "stream",
     "text": [
      "[7 7 7 7 7]\n"
     ]
    }
   ],
   "source": [
    "arr = np.full(5,7)\n",
    "print(arr)"
   ]
  },
  {
   "cell_type": "markdown",
   "id": "22f4ee19-897c-47cf-8b4e-bcea4efe782f",
   "metadata": {},
   "source": [
    "### Ćwiczenie 6: Tworzenie tablicy z zakresu liczb\n",
    "Stwórz tablicę NumPy zawierającą liczby z zakresu od 0 do 1 z krokiem 0.1. Skorzystaj z funkcji np.linspace()."
   ]
  },
  {
   "cell_type": "code",
   "execution_count": 31,
   "id": "99fe7034-aef9-4785-b68f-9bb4725e254b",
   "metadata": {},
   "outputs": [
    {
     "name": "stdout",
     "output_type": "stream",
     "text": [
      "[0.  0.1 0.2 0.3 0.4 0.5 0.6 0.7 0.8 0.9 1. ]\n"
     ]
    }
   ],
   "source": [
    "arr = np.linspace(0, 1 ,11)\n",
    "print(arr)"
   ]
  },
  {
   "cell_type": "markdown",
   "id": "db8582a5-a3f6-44b9-b1df-7b0501564913",
   "metadata": {},
   "source": [
    "### Ćwiczenie 7: Losowa tablica\n",
    "Wygeneruj dwuwymiarową tablicę o wymiarach 10x10, wypełnioną losowymi liczbami zmiennoprzecinkowymi z\n",
    "zakresu od 0 do 1. Skorzystaj z funkcji np.random.random()."
   ]
  },
  {
   "cell_type": "code",
   "execution_count": 46,
   "id": "91598e5f-54eb-473d-accd-cc8bbc293ade",
   "metadata": {},
   "outputs": [
    {
     "name": "stdout",
     "output_type": "stream",
     "text": [
      "[[0.8313823  0.54443505 0.04734336 0.26614442 0.78289944 0.88500501\n",
      "  0.35161339 0.96571668 0.98917269 0.14678887]\n",
      " [0.72046988 0.53581194 0.33515576 0.95539428 0.90571999 0.20298515\n",
      "  0.01575665 0.20512353 0.46610601 0.25833633]\n",
      " [0.95885815 0.70838431 0.12757743 0.95957558 0.88165156 0.9743313\n",
      "  0.94815492 0.13685474 0.88494842 0.0988526 ]\n",
      " [0.1013459  0.68334823 0.36211927 0.41535209 0.42919398 0.28039127\n",
      "  0.5536312  0.37171    0.60150452 0.56594372]\n",
      " [0.12155671 0.5786115  0.14398863 0.58132945 0.21069929 0.83813744\n",
      "  0.26655941 0.67107019 0.90497505 0.61397354]\n",
      " [0.77939064 0.31726959 0.59790655 0.12135986 0.88124199 0.04972112\n",
      "  0.01687789 0.65231644 0.21006546 0.89397034]\n",
      " [0.55375653 0.66366797 0.57435448 0.59429174 0.42654926 0.08942588\n",
      "  0.60061432 0.11363088 0.88339    0.40086747]\n",
      " [0.40461144 0.9862472  0.33714713 0.29044049 0.59664613 0.13608377\n",
      "  0.01321889 0.82322617 0.01661618 0.92425897]\n",
      " [0.17072916 0.23256145 0.11746266 0.67328275 0.5331437  0.39055432\n",
      "  0.81248853 0.81746573 0.71554491 0.57067962]\n",
      " [0.06987245 0.76995876 0.78532506 0.21638743 0.30607479 0.48941749\n",
      "  0.07603498 0.74640183 0.89322865 0.86175859]]\n"
     ]
    }
   ],
   "source": [
    "arr = np.random.random((10,10))\n",
    "print(arr)"
   ]
  },
  {
   "cell_type": "markdown",
   "id": "58522417-9517-4de6-856b-8abfe5ea6167",
   "metadata": {},
   "source": [
    "### Ćwiczenie 8: Tablica z losowymi liczbami całkowitymi\n",
    "Utwórz tablicę 6x6 wypełnioną losowymi liczbami całkowitymi z przedziału od 0 do 100. Użyj funkcji\n",
    "np.random.randint()."
   ]
  },
  {
   "cell_type": "code",
   "execution_count": 55,
   "id": "c38c865e-ceec-4f50-a3d8-1e7d4ee8184c",
   "metadata": {},
   "outputs": [
    {
     "name": "stdout",
     "output_type": "stream",
     "text": [
      "[[86 66 68 85 10 67]\n",
      " [72 93 37 70 25 67]\n",
      " [66 49 85 76 22 38]\n",
      " [21  3 79 26 82 31]\n",
      " [25 92 64 62 39 33]\n",
      " [32 84 49 66 78 13]]\n"
     ]
    }
   ],
   "source": [
    "arr = np.random.randint(0,101,(6,6))\n",
    "print(arr)"
   ]
  },
  {
   "cell_type": "markdown",
   "id": "d55e21c2-2b98-4207-9ef1-09eb94ca9553",
   "metadata": {},
   "source": [
    "### Ćwiczenie 9: Tablica z wartością początkową, krokiem i wymiarem\n",
    "Stwórz tablicę jednowymiarową z wartościami zaczynającymi się od 5, z krokiem 2, o długości 10 elementów. Użyj\n",
    "funkcji np.arange()."
   ]
  },
  {
   "cell_type": "code",
   "execution_count": 62,
   "id": "ea4196da-ff0c-42d4-849a-075128950d47",
   "metadata": {},
   "outputs": [
    {
     "name": "stdout",
     "output_type": "stream",
     "text": [
      "[ 5  7  9 11 13 15 17 19 21 23]\n"
     ]
    }
   ],
   "source": [
    "arr = np.arange(5,25,2)\n",
    "print(arr)"
   ]
  },
  {
   "cell_type": "markdown",
   "id": "ba5222ab-9634-4520-b6bc-cbdbe3fe0587",
   "metadata": {},
   "source": [
    "### Ćwiczenie 10: Zmienianie kształtu tablicy\n",
    "Stwórz jednowymiarową tablicę zawierającą liczby od 1 do 16, a następnie przekształć ją w tablicę o wymiarach\n",
    "4x4. Użyj funkcji np.reshape()."
   ]
  },
  {
   "cell_type": "code",
   "execution_count": 67,
   "id": "86d5c585-b6d5-483a-b004-e360bbde90fe",
   "metadata": {},
   "outputs": [
    {
     "name": "stdout",
     "output_type": "stream",
     "text": [
      "[[ 1  2  3  4]\n",
      " [ 5  6  7  8]\n",
      " [ 9 10 11 12]\n",
      " [13 14 15 16]]\n"
     ]
    }
   ],
   "source": [
    "arr = np.arange(1,17).reshape(4,4)\n",
    "print(arr)"
   ]
  },
  {
   "cell_type": "markdown",
   "id": "a5cf0bde-13ee-4b67-90f5-4ade79672428",
   "metadata": {},
   "source": [
    "### Ćwiczenie 11: Tworzenie tablicy z określonym typem danych\n",
    "Stwórz jednowymiarową tablicę NumPy zawierającą liczby całkowite od 1 do 10, ale upewnij się, że typ danych tablicy to float64."
   ]
  },
  {
   "cell_type": "code",
   "execution_count": 83,
   "id": "361eda21-96dc-4041-bfa6-3e0a1330847c",
   "metadata": {},
   "outputs": [
    {
     "name": "stdout",
     "output_type": "stream",
     "text": [
      "[ 1.  2.  3.  4.  5.  6.  7.  8.  9. 10.]\n"
     ]
    }
   ],
   "source": [
    "arr = np.arange(1,11,dtype=np.float64)\n",
    "print(arr)"
   ]
  },
  {
   "cell_type": "markdown",
   "id": "e348e476-b84c-438e-a935-15cd65e2bd1c",
   "metadata": {},
   "source": [
    "### Ćwiczenie 12: Zmiana typu danych istniejącej tablicy\n",
    "Utwórz tablicę NumPy z liczbami całkowitymi od 10 do 20, a następnie zmień typ danych tej tablicy na int16."
   ]
  },
  {
   "cell_type": "code",
   "execution_count": 89,
   "id": "ed8e2e8b-f6a1-4c78-b2f4-fdc48985d149",
   "metadata": {},
   "outputs": [
    {
     "name": "stdout",
     "output_type": "stream",
     "text": [
      "[10 11 12 13 14 15 16 17 18 19 20]\n"
     ]
    }
   ],
   "source": [
    "arr = np.arange(10,21,dtype=np.float32).astype(np.int16)\n",
    "print(arr)"
   ]
  },
  {
   "cell_type": "markdown",
   "id": "f448566d-6800-44b6-9312-b892a81ecf75",
   "metadata": {},
   "source": [
    "### Ćwiczenie 13: Tworzenie tablicy z wartościami zmiennoprzecinkowymi\n",
    "Stwórz dwuwymiarową tablicę NumPy o wymiarach 4x4 wypełnioną losowymi wartościami zmiennoprzecinko\n",
    "wymi z zakresu od 0 do 1, z typem danych float32"
   ]
  },
  {
   "cell_type": "code",
   "execution_count": 108,
   "id": "3c7fbfc2-bede-48cd-a725-acddcc069454",
   "metadata": {},
   "outputs": [
    {
     "name": "stdout",
     "output_type": "stream",
     "text": [
      "[[0.13577408 0.4903139  0.4724693  0.9215464 ]\n",
      " [0.4187673  0.15902935 0.27364597 0.3821887 ]\n",
      " [0.35826197 0.24577077 0.8810874  0.41435784]\n",
      " [0.63716495 0.47177032 0.21950085 0.18080735]]\n"
     ]
    }
   ],
   "source": [
    "arr = np.random.random((4,4)).astype(np.float32)\n",
    "print(arr)"
   ]
  },
  {
   "cell_type": "markdown",
   "id": "62a63ca5-bb87-4512-bb02-0f17ab97c3a4",
   "metadata": {},
   "source": [
    "### Ćwiczenie 14: Sprawdzenie typu danych tablicy\n",
    "Utwórz tablicę NumPy zawierającą liczby od 1 do 5, a następnie sprawdź i wyświetl typ danych tej tablicy."
   ]
  },
  {
   "cell_type": "code",
   "execution_count": 119,
   "id": "7c12ced8-1711-4212-b7d3-d4e5c4a25d38",
   "metadata": {},
   "outputs": [
    {
     "data": {
      "text/plain": [
       "dtype('int64')"
      ]
     },
     "execution_count": 119,
     "metadata": {},
     "output_type": "execute_result"
    }
   ],
   "source": [
    "arr = np.arange(1,6)\n",
    "arr.dtype"
   ]
  },
  {
   "cell_type": "markdown",
   "id": "effd96f3-0a8a-40bb-acbf-2600b8a5cd5d",
   "metadata": {},
   "source": [
    "### Ćwiczenie 15: Tworzenie tablicy logicznej\n",
    "Stwórz tablicę NumPy o wymiarach 3x3 wypełnioną wartościami logicznymi (True i False), używając typu danych\n",
    "bool."
   ]
  },
  {
   "cell_type": "code",
   "execution_count": 124,
   "id": "330e835c-70e1-44b5-877e-a9174afe1c4e",
   "metadata": {},
   "outputs": [],
   "source": [
    "bool_values = np.array([[True, False, True],\n",
    "[False, True, False],\n",
    "[True, False, True]], dtype=bool)"
   ]
  },
  {
   "cell_type": "markdown",
   "id": "accd83ca-95f5-44ba-b07c-bd81eea92e78",
   "metadata": {},
   "source": [
    "## 1.2. Proste indeksowanie i wycinanie tablic"
   ]
  },
  {
   "cell_type": "markdown",
   "id": "3601586c-6a34-417a-9f84-542a09861d66",
   "metadata": {},
   "source": [
    "### Ćwiczenie 16: Wyciąganie elementów z tablicy jednowymiarowej\n",
    "Utwórz jednowymiarową tablicę NumPy zawierającą liczby od 0 do 20. Wyciągnij elementy o indeksach 3, 5 i 7."
   ]
  },
  {
   "cell_type": "code",
   "execution_count": 132,
   "id": "e6645d1b-6864-40e4-8369-bed8079ac074",
   "metadata": {},
   "outputs": [
    {
     "name": "stdout",
     "output_type": "stream",
     "text": [
      "[3 5 7]\n"
     ]
    }
   ],
   "source": [
    "arr = np.arange(21)\n",
    "indexes = [3, 5, 7]\n",
    "print(arr[indexes])\n"
   ]
  },
  {
   "cell_type": "markdown",
   "id": "e99a4ec5-74bb-4ed5-bc0a-d1307c61e0fc",
   "metadata": {},
   "source": [
    "### Ćwiczenie 17: Wycinanie fragmentu tablicy dwuwymiarowej\n",
    "Stwórz dwuwymiarową tablicę o wymiarach 4x4, zawierającą liczby od 1 do 16. Wytnij i wyświetl podtablicę\n",
    "składającą się z wierszy 1 i 2 oraz kolumn 2 i 3."
   ]
  },
  {
   "cell_type": "code",
   "execution_count": 177,
   "id": "5d5f8af6-26d8-4d8f-b33f-5c9865c0e0e7",
   "metadata": {},
   "outputs": [
    {
     "name": "stdout",
     "output_type": "stream",
     "text": [
      "    0   1   2   3\n",
      "0   1   2   3   4\n",
      "1   5   6   7   8\n",
      "2   9  10  11  12\n",
      "3  13  14  15  16\n",
      "------\n",
      "    0   1\n",
      "0   7   8\n",
      "1  11  12\n"
     ]
    }
   ],
   "source": [
    "arr = np.arange(1,17).reshape(4,4)\n",
    "sub_arr = arr[1:3, 2:4]\n",
    "# print(\"Oryginal: \",arr)\n",
    "# print(\"Sliced: \",sub_arr)\n",
    "print(pd.DataFrame(arr))\n",
    "print(\"------\")\n",
    "print(pd.DataFrame(sub_arr))\n",
    "\n"
   ]
  },
  {
   "cell_type": "markdown",
   "id": "9b6af35b-0ba8-45b9-8d1d-99e6de8d3556",
   "metadata": {},
   "source": [
    "### Ćwiczenie 18: Wybieranie elementów wiersza\n",
    "Utwórz dwuwymiarową tablicę 5x5 z liczbami od 0 do 24. Wybierz i wyświetl wszystkie elementy w trzecim wierszu."
   ]
  },
  {
   "cell_type": "code",
   "execution_count": 188,
   "id": "ba0192f1-227b-467f-89da-5eb6ae5e8aec",
   "metadata": {},
   "outputs": [
    {
     "name": "stdout",
     "output_type": "stream",
     "text": [
      "[[ 0  1  2  3  4]\n",
      " [ 5  6  7  8  9]\n",
      " [10 11 12 13 14]\n",
      " [15 16 17 18 19]\n",
      " [20 21 22 23 24]]\n",
      "[10 11 12 13 14]\n"
     ]
    }
   ],
   "source": [
    "arr = np.arange(25).reshape(5,5)\n",
    "print(arr)\n",
    "print(arr[2,:])"
   ]
  },
  {
   "cell_type": "markdown",
   "id": "b3cefe7b-25e7-409d-8ec8-1584c724bf99",
   "metadata": {},
   "source": [
    "### Ćwiczenie 19: Indeksowanie z użyciem zakresu\n",
    "Stwórz tablicę NumPy z liczbami od 10 do 100 z krokiem 10. Wyciągnij co drugi element tej tablicy, zaczynając od\n",
    "drugiego elementu."
   ]
  },
  {
   "cell_type": "code",
   "execution_count": 195,
   "id": "e54d9534-810d-4f5e-873a-efa0e35d7c4f",
   "metadata": {},
   "outputs": [
    {
     "name": "stdout",
     "output_type": "stream",
     "text": [
      "[ 20  40  60  80 100]\n"
     ]
    }
   ],
   "source": [
    "arr = np.arange(10,101,10)\n",
    "print(arr[1::2])"
   ]
  },
  {
   "cell_type": "markdown",
   "id": "4d37a58e-0a28-4bc5-b046-97289aee3a97",
   "metadata": {},
   "source": [
    "### Ćwiczenie 20: Wycinanie tablicy wielowymiarowej\n",
    "Utwórz trójwymiarową tablicę o wymiarach 4x4x3, wypełnioną losowymi wartościami całkowitymi. Wyciągnij\n",
    "drugą warstwę (trzeci wymiar) tej tablicy."
   ]
  },
  {
   "cell_type": "code",
   "execution_count": 226,
   "id": "da6879ea-7b2c-4f1e-a609-e558a58e0edf",
   "metadata": {},
   "outputs": [
    {
     "name": "stdout",
     "output_type": "stream",
     "text": [
      "[[[7 5 3]\n",
      "  [7 2 4]\n",
      "  [3 5 4]\n",
      "  [6 0 3]]\n",
      "\n",
      " [[6 6 0]\n",
      "  [2 4 5]\n",
      "  [0 6 6]\n",
      "  [6 1 0]]\n",
      "\n",
      " [[8 5 4]\n",
      "  [1 8 9]\n",
      "  [1 8 8]\n",
      "  [2 2 9]]\n",
      "\n",
      " [[3 6 2]\n",
      "  [1 8 7]\n",
      "  [3 9 7]\n",
      "  [9 6 9]]]\n"
     ]
    }
   ],
   "source": [
    "arr = np.random.randint(0,10,size=(4,4,3))\n",
    "print(arr[::1])"
   ]
  },
  {
   "cell_type": "markdown",
   "id": "55d469b8-1031-4731-bee3-4622a933550e",
   "metadata": {},
   "source": [
    "### Ćwiczenie 21: Odwrócenie kolejności elementów\n",
    "Utwórz tablicę jednowymiarową z liczbami od 1 do 10, a następnie odwróć kolejność elementów w tablicy. Możesz\n",
    "użyć funkcji flip()."
   ]
  },
  {
   "cell_type": "code",
   "execution_count": 237,
   "id": "c69e4e3c-bd27-463f-9b94-7a02e763fc29",
   "metadata": {},
   "outputs": [
    {
     "name": "stdout",
     "output_type": "stream",
     "text": [
      "[10  9  8  7  6  5  4  3  2  1]\n"
     ]
    }
   ],
   "source": [
    "arr = np.arange(1,11)\n",
    "print(np.flip(arr))"
   ]
  },
  {
   "cell_type": "markdown",
   "id": "d1f26a1b-1be5-473c-adb8-6f7d511fef56",
   "metadata": {},
   "source": [
    "### Ćwiczenie 22: Modyfikacja fragmentu tablicy\n",
    "Stwórz dwuwymiarową tablicę 5x5, wypełnioną liczbami od 1 do 25. Zastąp elementy w wierszu 2 i kolumnie 3\n",
    "wartościami 99."
   ]
  },
  {
   "cell_type": "code",
   "execution_count": 15,
   "id": "1a3e4881-9d7a-4f20-8fb8-2ab0ee461fe6",
   "metadata": {},
   "outputs": [
    {
     "name": "stdout",
     "output_type": "stream",
     "text": [
      "[[ 4  3 14  8 20]\n",
      " [10 21 24 14 22]\n",
      " [ 2  6 13  5 21]\n",
      " [ 5 19 24 21 13]\n",
      " [ 1 19 13 11 11]]\n",
      "[[ 4  3 99  8 20]\n",
      " [99 99 99 99 99]\n",
      " [ 2  6 99  5 21]\n",
      " [ 5 19 99 21 13]\n",
      " [ 1 19 99 11 11]]\n"
     ]
    }
   ],
   "source": [
    "arr = np.random.randint(1,26,size=(5,5))\n",
    "print(arr)\n",
    "arr[1,:]=99 \n",
    "arr[:,2]= 99\n",
    "print(arr)\n"
   ]
  },
  {
   "cell_type": "markdown",
   "id": "22d6eaf5-f30e-4cd2-b3eb-76c1431c594f",
   "metadata": {},
   "source": [
    "### Ćwiczenie 23: Indeksowanie z warunkiem logicznym\n",
    "Utwórz tablicę NumPy z liczbami od 1 do 20. Wyciągnij z niej wszystkie liczby parzyste."
   ]
  },
  {
   "cell_type": "code",
   "execution_count": 24,
   "id": "de9b23da-02b7-47f6-b6e8-7dd7db827dc1",
   "metadata": {},
   "outputs": [
    {
     "name": "stdout",
     "output_type": "stream",
     "text": [
      "[ 1  2  3  4  5  6  7  8  9 10 11 12 13 14 15 16 17 18 19 20]\n",
      "[ 2  4  6  8 10 12 14 16 18 20]\n"
     ]
    }
   ],
   "source": [
    "arr = np.arange(1,21)\n",
    "print(arr)\n",
    "arr = arr[arr % 2 == 0]\n",
    "print(arr)"
   ]
  },
  {
   "cell_type": "markdown",
   "id": "a462cba1-3bc3-45cc-ba33-1f89f504c826",
   "metadata": {},
   "source": [
    "### Ćwiczenie 24: Wyciąganie elementów z użyciem listy indeksów\n",
    "Stwórz jednowymiarową tablicę zawierającą liczby od 0 do 10. Wyciągnij elementy o indeksach podanych w liście\n",
    "[1, 3, 5, 7, 9]."
   ]
  },
  {
   "cell_type": "code",
   "execution_count": 29,
   "id": "ef7c9815-f51b-44f2-8bb1-5a968738db71",
   "metadata": {},
   "outputs": [
    {
     "name": "stdout",
     "output_type": "stream",
     "text": [
      "[ 0  1  2  3  4  5  6  7  8  9 10]\n",
      "[1 3 5 7 9]\n"
     ]
    }
   ],
   "source": [
    "arr = np.arange(11)\n",
    "print(arr)\n",
    "arr = arr[[1, 3, 5, 7, 9]]\n",
    "print(arr)"
   ]
  },
  {
   "cell_type": "markdown",
   "id": "b2daa233-4dbc-4f4b-a8d8-018846cc03be",
   "metadata": {},
   "source": [
    "### Ćwiczenie 25: Wycinanie tablicy z krokiem\n",
    "Utwórz tablicę jednowymiarową z liczbami od 1 do 30. Wyciągnij co trzeci element tablicy, zaczynając od piątego\n",
    "elementu."
   ]
  },
  {
   "cell_type": "code",
   "execution_count": 42,
   "id": "9cd14c39-b9b5-4af1-9aa7-c1a4c4bed227",
   "metadata": {},
   "outputs": [
    {
     "name": "stdout",
     "output_type": "stream",
     "text": [
      "[ 1  2  3  4  5  6  7  8  9 10 11 12 13 14 15 16 17 18 19 20 21 22 23 24\n",
      " 25 26 27 28 29 30]\n",
      "[ 5  8 11 14 17 20 23 26 29]\n"
     ]
    }
   ],
   "source": [
    "arr = np.arange(1,31)\n",
    "print(arr)\n",
    "res = arr[4::3]\n",
    "print(res)"
   ]
  },
  {
   "cell_type": "markdown",
   "id": "2cd3d86b-4e38-4e7e-aa5f-a2e419851922",
   "metadata": {},
   "source": [
    "## 1.3. Podstawowe operacje na danych w tablicach"
   ]
  },
  {
   "cell_type": "code",
   "execution_count": 47,
   "id": "3c9c6ea7-c34d-4c9b-89a4-02107425a72f",
   "metadata": {},
   "outputs": [],
   "source": [
    "tab_1 = np.array([1, 2, 3, 4, 5, 6])\n",
    "tab_2 = np.array([5, 6, 7, 8, 9, 10])\n",
    "tab_3 = np.arange(1, 21)\n",
    "tab_4 = np.array([[i] for i in range(2, 13, 2)])"
   ]
  },
  {
   "cell_type": "markdown",
   "id": "0b36b229-a202-44ed-a038-2b545c082e85",
   "metadata": {},
   "source": [
    "### Ćwiczenie 26: Operacje arytmetyczne I\n",
    "1. Wykonaj operację dodawania na tablicach tab_1 i tab_2.\n",
    "2. Pomnóż każdy element tablicy tab_1 przez 3.\n",
    "3. Oblicz iloczyn elementów tab_4 z liczbą 0.5.\n",
    "4. Podziel elementy tab_2 przez odpowiadające im elementy tab_1.\n",
    "5. Do każdego elementu tab_3 dodaj wektor [10, 20, 30, 40, 50].\n",
    "6. Wykonaj dzielenie modulo tab_2 przez tab_1.\n",
    "7. Pomnóż macierz tab_4 przez wektor [1, 2, 3].\n",
    "8. Podnieś elementy tab_1 do kwadratu i podziel przez 2.\n",
    "9. Wykonaj operację dzielenia całkowitego tab_3 przez 3.\n",
    "10. Pomnóż tab_4 przez transponowaną wersję samej siebie."
   ]
  },
  {
   "cell_type": "code",
   "execution_count": 54,
   "id": "175e54bc-98ff-49ef-a195-4686399dd5e1",
   "metadata": {},
   "outputs": [
    {
     "name": "stdout",
     "output_type": "stream",
     "text": [
      "[ 6  8 10 12 14 16]\n"
     ]
    }
   ],
   "source": [
    "add = tab_1 + tab_2\n",
    "print(add)"
   ]
  },
  {
   "cell_type": "code",
   "execution_count": 56,
   "id": "3bed14b2-8bab-460e-9ae6-6b3ff607c15e",
   "metadata": {},
   "outputs": [
    {
     "name": "stdout",
     "output_type": "stream",
     "text": [
      "[ 5 12 21 32 45 60]\n"
     ]
    }
   ],
   "source": [
    "multiply = tab_1 * tab_2\n",
    "print(multiply)"
   ]
  },
  {
   "cell_type": "code",
   "execution_count": 58,
   "id": "74356958-26b3-42e7-bee1-7c8e82746e98",
   "metadata": {},
   "outputs": [
    {
     "name": "stdout",
     "output_type": "stream",
     "text": [
      "[[1.]\n",
      " [2.]\n",
      " [3.]\n",
      " [4.]\n",
      " [5.]\n",
      " [6.]]\n"
     ]
    }
   ],
   "source": [
    "res = tab_4 * 0.5\n",
    "print(res)"
   ]
  },
  {
   "cell_type": "code",
   "execution_count": 60,
   "id": "c7af9eed-6c58-4a89-a1c0-030ff4865fb3",
   "metadata": {},
   "outputs": [
    {
     "name": "stdout",
     "output_type": "stream",
     "text": [
      "[5.         3.         2.33333333 2.         1.8        1.66666667]\n"
     ]
    }
   ],
   "source": [
    "res4 = tab_2 / tab_1\n",
    "print(res1)"
   ]
  },
  {
   "cell_type": "code",
   "execution_count": 66,
   "id": "63d5470f-f2fc-4f1d-ba81-ed16c215237b",
   "metadata": {},
   "outputs": [],
   "source": [
    "res5 = tab_3.reshape(4,5) + np.array([10, 20, 30, 40 ,50])"
   ]
  },
  {
   "cell_type": "code",
   "execution_count": 68,
   "id": "419363ed-5a9d-4393-ae86-317e5f70b662",
   "metadata": {},
   "outputs": [
    {
     "name": "stdout",
     "output_type": "stream",
     "text": [
      "[0 0 1 0 4 4]\n"
     ]
    }
   ],
   "source": [
    "res6 = np.mod(tab_2, tab_1)\n",
    "print(res6)"
   ]
  },
  {
   "cell_type": "code",
   "execution_count": 70,
   "id": "bee282ba-6409-42ef-bfda-7d8c87088e38",
   "metadata": {},
   "outputs": [],
   "source": [
    "res7 = tab_4 * np.array([1, 2, 3])"
   ]
  },
  {
   "cell_type": "code",
   "execution_count": 72,
   "id": "7139056b-3e2d-4c23-bf12-2f05d8416c1a",
   "metadata": {},
   "outputs": [],
   "source": [
    "res8  = (tab_1 ** 2) / 2"
   ]
  },
  {
   "cell_type": "code",
   "execution_count": null,
   "id": "3a16b8db-d731-48d3-9e56-03b82b17352c",
   "metadata": {},
   "outputs": [],
   "source": [
    "res9 = tab_3 // 3"
   ]
  },
  {
   "cell_type": "code",
   "execution_count": 74,
   "id": "c86ceb91-40ad-4069-946a-2e047dfe071f",
   "metadata": {},
   "outputs": [
    {
     "name": "stdout",
     "output_type": "stream",
     "text": [
      "[[  4   8  12  16  20  24]\n",
      " [  8  16  24  32  40  48]\n",
      " [ 12  24  36  48  60  72]\n",
      " [ 16  32  48  64  80  96]\n",
      " [ 20  40  60  80 100 120]\n",
      " [ 24  48  72  96 120 144]]\n"
     ]
    }
   ],
   "source": [
    "res10 = tab_4 @ tab_4.T\n",
    "print(res10)"
   ]
  },
  {
   "cell_type": "markdown",
   "id": "6617d014-fc07-4827-b5ed-5ad4b9202c3b",
   "metadata": {},
   "source": [
    "## Funkcje uniwersalne"
   ]
  },
  {
   "cell_type": "markdown",
   "id": "a0f69bb2-236b-41c6-a7b0-7760560ecf20",
   "metadata": {},
   "source": [
    "### Ćwiczenie 27: np.sqrt() i np.square()\n",
    "Utwórz tablicę zawierającą 10 losowych liczb całkowitych z zakresu 1 99, a następnie wykorzystaj odpowiednią\n",
    "funkcję do obliczenia:\n",
    "• pierwiastka kwadratowego każdej liczby,\n",
    "• kwadratu każdej liczby."
   ]
  },
  {
   "cell_type": "code",
   "execution_count": 88,
   "id": "35ceec6c-0ffc-426f-a73a-aa34ac49951d",
   "metadata": {},
   "outputs": [],
   "source": [
    "arr = np.random.randint(1,100,size=(10))\n",
    "sqr= np.sqrt(arr)\n",
    "square = np.square(arr)"
   ]
  },
  {
   "cell_type": "markdown",
   "id": "1f9b4a1b-6378-4871-958d-eb7f944a5826",
   "metadata": {},
   "source": [
    "### Ćwiczenie 28: np.abs()\n",
    "Oblicz bezwzględne różnice wartości w podanych tablicach:"
   ]
  },
  {
   "cell_type": "code",
   "execution_count": 91,
   "id": "eddb7427-4873-4782-a885-eb898543b7b3",
   "metadata": {},
   "outputs": [],
   "source": [
    "import random\n",
    "tab_1 = [i + random.random() for i in range(10)]\n",
    "tab_2 = [i + random.random() for i in range(1,11)]"
   ]
  },
  {
   "cell_type": "code",
   "execution_count": 95,
   "id": "f1887198-2ba7-45ac-a25f-90bcc207fe9e",
   "metadata": {},
   "outputs": [],
   "source": [
    "res = np.abs(np.array(tab_1) - np.array(tab_2))"
   ]
  },
  {
   "cell_type": "markdown",
   "id": "e43caab3-763f-4b00-ab9c-b4682f6069ea",
   "metadata": {},
   "source": [
    "### Ćwiczenie 30: np.max() kontra np.maximum()\n",
    "Dane są dwie tablice:"
   ]
  },
  {
   "cell_type": "code",
   "execution_count": 104,
   "id": "f6341f05-91c3-4662-a599-6e5f4ed25676",
   "metadata": {},
   "outputs": [
    {
     "name": "stdout",
     "output_type": "stream",
     "text": [
      "[17  3  9 14 17  5  8  6 15  5]\n",
      "[3 9 4 8 9 5 6 1 1 7]\n",
      "wynik działania funkcji max:\n",
      "17\n",
      "9\n",
      "Wynik działania funkcji maximum:\n",
      "[17  9  9 14 17  5  8  6 15  7]\n"
     ]
    }
   ],
   "source": [
    "tab_1 = np.random.randint(1, 21, 10)\n",
    "tab_2 = np.random.randint(1, 11, 10)\n",
    "print(tab_1)\n",
    "print(tab_2)\n",
    "print(\"wynik działania funkcji max:\")\n",
    "print(np.max(tab_1))\n",
    "print(np.max(tab_2))\n",
    "print(\"Wynik działania funkcji maximum:\")\n",
    "print(np.maximum(tab_1, tab_2))"
   ]
  },
  {
   "cell_type": "markdown",
   "id": "b3476f47-2847-4161-82d5-ddc054b4680c",
   "metadata": {},
   "source": [
    "### Ćwiczenie 31: Funkcje trygonometryczne\n",
    "Utwórz tablicę zawierającą kąty w radianach [π/6, π/4, π/3, π/2, π]. Wykorzystaj funkcje trygonometryczne\n",
    "do:\n",
    "• obliczenia sinusa, cosinusa i tangensa każdego kąta,\n",
    "• sprawdzenia tożsamości trygonometrycznej sin²(x) + cos²(x) = 1,\n",
    "• znalezienia kątów, dla których cos(x) > sin(x)."
   ]
  },
  {
   "cell_type": "code",
   "execution_count": 111,
   "id": "4d615625-29af-45b5-b9da-9f2b06724442",
   "metadata": {},
   "outputs": [],
   "source": [
    "kat = np.pi / np.arange(6, 0, -1)\n",
    "sin = np.sin(kat)"
   ]
  }
 ],
 "metadata": {
  "kernelspec": {
   "display_name": "Python [conda env:base] *",
   "language": "python",
   "name": "conda-base-py"
  },
  "language_info": {
   "codemirror_mode": {
    "name": "ipython",
    "version": 3
   },
   "file_extension": ".py",
   "mimetype": "text/x-python",
   "name": "python",
   "nbconvert_exporter": "python",
   "pygments_lexer": "ipython3",
   "version": "3.12.7"
  }
 },
 "nbformat": 4,
 "nbformat_minor": 5
}
