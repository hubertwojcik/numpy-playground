{
 "cells": [
  {
   "cell_type": "markdown",
   "id": "4b079275",
   "metadata": {},
   "source": [
    "## 1.1. Podstawowe struktury danych"
   ]
  },
  {
   "cell_type": "code",
   "execution_count": 69,
   "id": "b65007a7",
   "metadata": {},
   "outputs": [],
   "source": [
    "import numpy as np\n",
    "import matplotlib.pyplot as plt\n",
    "import seaborn as sns\n",
    "import pandas as pd"
   ]
  },
  {
   "cell_type": "markdown",
   "id": "9c50ca5a",
   "metadata": {},
   "source": [
    "### Ćwiczenie 1: Tworzenie jednowymiarowej tablicy\n",
    "Stwórz jednowymiarową tablicę NumPy zawierającą liczby całkowite od 10 do 20 włącznie. Skorzystaj z funkcji\n",
    "np.arange()."
   ]
  },
  {
   "cell_type": "code",
   "execution_count": 2,
   "id": "94f0d648",
   "metadata": {},
   "outputs": [
    {
     "name": "stdout",
     "output_type": "stream",
     "text": [
      "[10 11 12 13 14 15 16 17 18 19 20]\n"
     ]
    }
   ],
   "source": [
    "arr = np.arange(10,21)\n",
    "print(arr)"
   ]
  },
  {
   "cell_type": "markdown",
   "id": "8d88a54e",
   "metadata": {},
   "source": [
    "### Ćwiczenie 2: Tworzenie tablicy wielowymiarowej\n",
    "Utwórz dwuwymiarową tablicę o wymiarach 3x4, wypełnioną liczbami zmiennoprzecinkowymi od 1.0 do 12.0.\n",
    "Możesz użyć funkcji np.reshape()."
   ]
  },
  {
   "cell_type": "code",
   "execution_count": 7,
   "id": "03fdd27d",
   "metadata": {},
   "outputs": [
    {
     "name": "stdout",
     "output_type": "stream",
     "text": [
      "[[ 1.  2.  3.  4.]\n",
      " [ 5.  6.  7.  8.]\n",
      " [ 9. 10. 11. 12.]]\n"
     ]
    }
   ],
   "source": [
    "arr = np.arange(1,13, dtype=float).reshape(3,4)\n",
    "print(arr)"
   ]
  },
  {
   "cell_type": "markdown",
   "id": "84d09f23-cacd-42d4-bb58-2f3eda73eba3",
   "metadata": {},
   "source": [
    "### Ćwiczenie 3: Tablica zerowa\n",
    "Stwórz dwuwymiarową tablicę 5x5 wypełnioną samymi zerami. Wykorzystaj funkcję np.zeros()."
   ]
  },
  {
   "cell_type": "code",
   "execution_count": 14,
   "id": "0e144e37-6897-4291-8ad2-a3548d0e2ac3",
   "metadata": {},
   "outputs": [
    {
     "name": "stdout",
     "output_type": "stream",
     "text": [
      "[[0. 0. 0. 0. 0.]\n",
      " [0. 0. 0. 0. 0.]\n",
      " [0. 0. 0. 0. 0.]\n",
      " [0. 0. 0. 0. 0.]\n",
      " [0. 0. 0. 0. 0.]]\n"
     ]
    }
   ],
   "source": [
    "arr = np.zeros((5,5))\n",
    "print(arr)"
   ]
  },
  {
   "cell_type": "markdown",
   "id": "e6d6ec04-1fb0-4575-bec9-26e86a2ac63c",
   "metadata": {},
   "source": [
    "### Ćwiczenie 4: Tablica jednostkowa\n",
    "Stwórz tablicę jednostkową (macierz jednostkową) o rozmiarze 4x4. Skorzystaj z funkcji np.eye()."
   ]
  },
  {
   "cell_type": "code",
   "execution_count": 21,
   "id": "6947fd9b-25aa-41c0-a747-9a4fd02244da",
   "metadata": {},
   "outputs": [
    {
     "name": "stdout",
     "output_type": "stream",
     "text": [
      "[[1. 0. 0. 0.]\n",
      " [0. 1. 0. 0.]\n",
      " [0. 0. 1. 0.]\n",
      " [0. 0. 0. 1.]]\n"
     ]
    }
   ],
   "source": [
    "arr = np.eye((4))\n",
    "print(arr)"
   ]
  },
  {
   "cell_type": "markdown",
   "id": "c5a5ca0c-f1a8-44d8-a79c-f16c64587c86",
   "metadata": {},
   "source": [
    "### Ćwiczenie 5: Tablica wypełniona stałą wartością\n",
    "Utwórz tablicę jednowymiarową z pięcioma elementami, wypełnioną wartością 7. Użyj funkcji np.full()."
   ]
  },
  {
   "cell_type": "code",
   "execution_count": 24,
   "id": "41c72bc6-af53-41aa-8529-7fa1e94501e2",
   "metadata": {},
   "outputs": [
    {
     "name": "stdout",
     "output_type": "stream",
     "text": [
      "[7 7 7 7 7]\n"
     ]
    }
   ],
   "source": [
    "arr = np.full(5,7)\n",
    "print(arr)"
   ]
  },
  {
   "cell_type": "markdown",
   "id": "22f4ee19-897c-47cf-8b4e-bcea4efe782f",
   "metadata": {},
   "source": [
    "### Ćwiczenie 6: Tworzenie tablicy z zakresu liczb\n",
    "Stwórz tablicę NumPy zawierającą liczby z zakresu od 0 do 1 z krokiem 0.1. Skorzystaj z funkcji np.linspace()."
   ]
  },
  {
   "cell_type": "code",
   "execution_count": 31,
   "id": "99fe7034-aef9-4785-b68f-9bb4725e254b",
   "metadata": {},
   "outputs": [
    {
     "name": "stdout",
     "output_type": "stream",
     "text": [
      "[0.  0.1 0.2 0.3 0.4 0.5 0.6 0.7 0.8 0.9 1. ]\n"
     ]
    }
   ],
   "source": [
    "arr = np.linspace(0, 1 ,11)\n",
    "print(arr)"
   ]
  },
  {
   "cell_type": "markdown",
   "id": "db8582a5-a3f6-44b9-b1df-7b0501564913",
   "metadata": {},
   "source": [
    "### Ćwiczenie 7: Losowa tablica\n",
    "Wygeneruj dwuwymiarową tablicę o wymiarach 10x10, wypełnioną losowymi liczbami zmiennoprzecinkowymi z\n",
    "zakresu od 0 do 1. Skorzystaj z funkcji np.random.random()."
   ]
  },
  {
   "cell_type": "code",
   "execution_count": 46,
   "id": "91598e5f-54eb-473d-accd-cc8bbc293ade",
   "metadata": {},
   "outputs": [
    {
     "name": "stdout",
     "output_type": "stream",
     "text": [
      "[[0.8313823  0.54443505 0.04734336 0.26614442 0.78289944 0.88500501\n",
      "  0.35161339 0.96571668 0.98917269 0.14678887]\n",
      " [0.72046988 0.53581194 0.33515576 0.95539428 0.90571999 0.20298515\n",
      "  0.01575665 0.20512353 0.46610601 0.25833633]\n",
      " [0.95885815 0.70838431 0.12757743 0.95957558 0.88165156 0.9743313\n",
      "  0.94815492 0.13685474 0.88494842 0.0988526 ]\n",
      " [0.1013459  0.68334823 0.36211927 0.41535209 0.42919398 0.28039127\n",
      "  0.5536312  0.37171    0.60150452 0.56594372]\n",
      " [0.12155671 0.5786115  0.14398863 0.58132945 0.21069929 0.83813744\n",
      "  0.26655941 0.67107019 0.90497505 0.61397354]\n",
      " [0.77939064 0.31726959 0.59790655 0.12135986 0.88124199 0.04972112\n",
      "  0.01687789 0.65231644 0.21006546 0.89397034]\n",
      " [0.55375653 0.66366797 0.57435448 0.59429174 0.42654926 0.08942588\n",
      "  0.60061432 0.11363088 0.88339    0.40086747]\n",
      " [0.40461144 0.9862472  0.33714713 0.29044049 0.59664613 0.13608377\n",
      "  0.01321889 0.82322617 0.01661618 0.92425897]\n",
      " [0.17072916 0.23256145 0.11746266 0.67328275 0.5331437  0.39055432\n",
      "  0.81248853 0.81746573 0.71554491 0.57067962]\n",
      " [0.06987245 0.76995876 0.78532506 0.21638743 0.30607479 0.48941749\n",
      "  0.07603498 0.74640183 0.89322865 0.86175859]]\n"
     ]
    }
   ],
   "source": [
    "arr = np.random.random((10,10))\n",
    "print(arr)"
   ]
  },
  {
   "cell_type": "markdown",
   "id": "58522417-9517-4de6-856b-8abfe5ea6167",
   "metadata": {},
   "source": [
    "### Ćwiczenie 8: Tablica z losowymi liczbami całkowitymi\n",
    "Utwórz tablicę 6x6 wypełnioną losowymi liczbami całkowitymi z przedziału od 0 do 100. Użyj funkcji\n",
    "np.random.randint()."
   ]
  },
  {
   "cell_type": "code",
   "execution_count": 55,
   "id": "c38c865e-ceec-4f50-a3d8-1e7d4ee8184c",
   "metadata": {},
   "outputs": [
    {
     "name": "stdout",
     "output_type": "stream",
     "text": [
      "[[86 66 68 85 10 67]\n",
      " [72 93 37 70 25 67]\n",
      " [66 49 85 76 22 38]\n",
      " [21  3 79 26 82 31]\n",
      " [25 92 64 62 39 33]\n",
      " [32 84 49 66 78 13]]\n"
     ]
    }
   ],
   "source": [
    "arr = np.random.randint(0,101,(6,6))\n",
    "print(arr)"
   ]
  },
  {
   "cell_type": "markdown",
   "id": "d55e21c2-2b98-4207-9ef1-09eb94ca9553",
   "metadata": {},
   "source": [
    "### Ćwiczenie 9: Tablica z wartością początkową, krokiem i wymiarem\n",
    "Stwórz tablicę jednowymiarową z wartościami zaczynającymi się od 5, z krokiem 2, o długości 10 elementów. Użyj\n",
    "funkcji np.arange()."
   ]
  },
  {
   "cell_type": "code",
   "execution_count": 62,
   "id": "ea4196da-ff0c-42d4-849a-075128950d47",
   "metadata": {},
   "outputs": [
    {
     "name": "stdout",
     "output_type": "stream",
     "text": [
      "[ 5  7  9 11 13 15 17 19 21 23]\n"
     ]
    }
   ],
   "source": [
    "arr = np.arange(5,25,2)\n",
    "print(arr)"
   ]
  },
  {
   "cell_type": "markdown",
   "id": "ba5222ab-9634-4520-b6bc-cbdbe3fe0587",
   "metadata": {},
   "source": [
    "### Ćwiczenie 10: Zmienianie kształtu tablicy\n",
    "Stwórz jednowymiarową tablicę zawierającą liczby od 1 do 16, a następnie przekształć ją w tablicę o wymiarach\n",
    "4x4. Użyj funkcji np.reshape()."
   ]
  },
  {
   "cell_type": "code",
   "execution_count": 67,
   "id": "86d5c585-b6d5-483a-b004-e360bbde90fe",
   "metadata": {},
   "outputs": [
    {
     "name": "stdout",
     "output_type": "stream",
     "text": [
      "[[ 1  2  3  4]\n",
      " [ 5  6  7  8]\n",
      " [ 9 10 11 12]\n",
      " [13 14 15 16]]\n"
     ]
    }
   ],
   "source": [
    "arr = np.arange(1,17).reshape(4,4)\n",
    "print(arr)"
   ]
  },
  {
   "cell_type": "markdown",
   "id": "a5cf0bde-13ee-4b67-90f5-4ade79672428",
   "metadata": {},
   "source": [
    "### Ćwiczenie 11: Tworzenie tablicy z określonym typem danych\n",
    "Stwórz jednowymiarową tablicę NumPy zawierającą liczby całkowite od 1 do 10, ale upewnij się, że typ danych tablicy to float64."
   ]
  },
  {
   "cell_type": "code",
   "execution_count": 83,
   "id": "361eda21-96dc-4041-bfa6-3e0a1330847c",
   "metadata": {},
   "outputs": [
    {
     "name": "stdout",
     "output_type": "stream",
     "text": [
      "[ 1.  2.  3.  4.  5.  6.  7.  8.  9. 10.]\n"
     ]
    }
   ],
   "source": [
    "arr = np.arange(1,11,dtype=np.float64)\n",
    "print(arr)"
   ]
  },
  {
   "cell_type": "markdown",
   "id": "e348e476-b84c-438e-a935-15cd65e2bd1c",
   "metadata": {},
   "source": [
    "### Ćwiczenie 12: Zmiana typu danych istniejącej tablicy\n",
    "Utwórz tablicę NumPy z liczbami całkowitymi od 10 do 20, a następnie zmień typ danych tej tablicy na int16."
   ]
  },
  {
   "cell_type": "code",
   "execution_count": 89,
   "id": "ed8e2e8b-f6a1-4c78-b2f4-fdc48985d149",
   "metadata": {},
   "outputs": [
    {
     "name": "stdout",
     "output_type": "stream",
     "text": [
      "[10 11 12 13 14 15 16 17 18 19 20]\n"
     ]
    }
   ],
   "source": [
    "arr = np.arange(10,21,dtype=np.float32).astype(np.int16)\n",
    "print(arr)"
   ]
  },
  {
   "cell_type": "markdown",
   "id": "f448566d-6800-44b6-9312-b892a81ecf75",
   "metadata": {},
   "source": [
    "### Ćwiczenie 13: Tworzenie tablicy z wartościami zmiennoprzecinkowymi\n",
    "Stwórz dwuwymiarową tablicę NumPy o wymiarach 4x4 wypełnioną losowymi wartościami zmiennoprzecinko\n",
    "wymi z zakresu od 0 do 1, z typem danych float32"
   ]
  },
  {
   "cell_type": "code",
   "execution_count": 108,
   "id": "3c7fbfc2-bede-48cd-a725-acddcc069454",
   "metadata": {},
   "outputs": [
    {
     "name": "stdout",
     "output_type": "stream",
     "text": [
      "[[0.13577408 0.4903139  0.4724693  0.9215464 ]\n",
      " [0.4187673  0.15902935 0.27364597 0.3821887 ]\n",
      " [0.35826197 0.24577077 0.8810874  0.41435784]\n",
      " [0.63716495 0.47177032 0.21950085 0.18080735]]\n"
     ]
    }
   ],
   "source": [
    "arr = np.random.random((4,4)).astype(np.float32)\n",
    "print(arr)"
   ]
  },
  {
   "cell_type": "markdown",
   "id": "62a63ca5-bb87-4512-bb02-0f17ab97c3a4",
   "metadata": {},
   "source": [
    "### Ćwiczenie 14: Sprawdzenie typu danych tablicy\n",
    "Utwórz tablicę NumPy zawierającą liczby od 1 do 5, a następnie sprawdź i wyświetl typ danych tej tablicy."
   ]
  },
  {
   "cell_type": "code",
   "execution_count": 119,
   "id": "7c12ced8-1711-4212-b7d3-d4e5c4a25d38",
   "metadata": {},
   "outputs": [
    {
     "data": {
      "text/plain": [
       "dtype('int64')"
      ]
     },
     "execution_count": 119,
     "metadata": {},
     "output_type": "execute_result"
    }
   ],
   "source": [
    "arr = np.arange(1,6)\n",
    "arr.dtype"
   ]
  },
  {
   "cell_type": "markdown",
   "id": "effd96f3-0a8a-40bb-acbf-2600b8a5cd5d",
   "metadata": {},
   "source": [
    "### Ćwiczenie 15: Tworzenie tablicy logicznej\n",
    "Stwórz tablicę NumPy o wymiarach 3x3 wypełnioną wartościami logicznymi (True i False), używając typu danych\n",
    "bool."
   ]
  },
  {
   "cell_type": "code",
   "execution_count": 124,
   "id": "330e835c-70e1-44b5-877e-a9174afe1c4e",
   "metadata": {},
   "outputs": [],
   "source": [
    "bool_values = np.array([[True, False, True],\n",
    "[False, True, False],\n",
    "[True, False, True]], dtype=bool)"
   ]
  },
  {
   "cell_type": "markdown",
   "id": "accd83ca-95f5-44ba-b07c-bd81eea92e78",
   "metadata": {},
   "source": [
    "## 1.2. Proste indeksowanie i wycinanie tablic"
   ]
  },
  {
   "cell_type": "markdown",
   "id": "3601586c-6a34-417a-9f84-542a09861d66",
   "metadata": {},
   "source": [
    "### Ćwiczenie 16: Wyciąganie elementów z tablicy jednowymiarowej\n",
    "Utwórz jednowymiarową tablicę NumPy zawierającą liczby od 0 do 20. Wyciągnij elementy o indeksach 3, 5 i 7."
   ]
  },
  {
   "cell_type": "code",
   "execution_count": 132,
   "id": "e6645d1b-6864-40e4-8369-bed8079ac074",
   "metadata": {},
   "outputs": [
    {
     "name": "stdout",
     "output_type": "stream",
     "text": [
      "[3 5 7]\n"
     ]
    }
   ],
   "source": [
    "arr = np.arange(21)\n",
    "indexes = [3, 5, 7]\n",
    "print(arr[indexes])\n"
   ]
  },
  {
   "cell_type": "markdown",
   "id": "e99a4ec5-74bb-4ed5-bc0a-d1307c61e0fc",
   "metadata": {},
   "source": [
    "### Ćwiczenie 17: Wycinanie fragmentu tablicy dwuwymiarowej\n",
    "Stwórz dwuwymiarową tablicę o wymiarach 4x4, zawierającą liczby od 1 do 16. Wytnij i wyświetl podtablicę\n",
    "składającą się z wierszy 1 i 2 oraz kolumn 2 i 3."
   ]
  },
  {
   "cell_type": "code",
   "execution_count": 177,
   "id": "5d5f8af6-26d8-4d8f-b33f-5c9865c0e0e7",
   "metadata": {},
   "outputs": [
    {
     "name": "stdout",
     "output_type": "stream",
     "text": [
      "    0   1   2   3\n",
      "0   1   2   3   4\n",
      "1   5   6   7   8\n",
      "2   9  10  11  12\n",
      "3  13  14  15  16\n",
      "------\n",
      "    0   1\n",
      "0   7   8\n",
      "1  11  12\n"
     ]
    }
   ],
   "source": [
    "arr = np.arange(1,17).reshape(4,4)\n",
    "sub_arr = arr[1:3, 2:4]\n",
    "# print(\"Oryginal: \",arr)\n",
    "# print(\"Sliced: \",sub_arr)\n",
    "print(pd.DataFrame(arr))\n",
    "print(\"------\")\n",
    "print(pd.DataFrame(sub_arr))\n",
    "\n"
   ]
  },
  {
   "cell_type": "markdown",
   "id": "9b6af35b-0ba8-45b9-8d1d-99e6de8d3556",
   "metadata": {},
   "source": [
    "### Ćwiczenie 18: Wybieranie elementów wiersza\n",
    "Utwórz dwuwymiarową tablicę 5x5 z liczbami od 0 do 24. Wybierz i wyświetl wszystkie elementy w trzecim wierszu."
   ]
  },
  {
   "cell_type": "code",
   "execution_count": 188,
   "id": "ba0192f1-227b-467f-89da-5eb6ae5e8aec",
   "metadata": {},
   "outputs": [
    {
     "name": "stdout",
     "output_type": "stream",
     "text": [
      "[[ 0  1  2  3  4]\n",
      " [ 5  6  7  8  9]\n",
      " [10 11 12 13 14]\n",
      " [15 16 17 18 19]\n",
      " [20 21 22 23 24]]\n",
      "[10 11 12 13 14]\n"
     ]
    }
   ],
   "source": [
    "arr = np.arange(25).reshape(5,5)\n",
    "print(arr)\n",
    "print(arr[2,:])"
   ]
  },
  {
   "cell_type": "markdown",
   "id": "b3cefe7b-25e7-409d-8ec8-1584c724bf99",
   "metadata": {},
   "source": [
    "### Ćwiczenie 19: Indeksowanie z użyciem zakresu\n",
    "Stwórz tablicę NumPy z liczbami od 10 do 100 z krokiem 10. Wyciągnij co drugi element tej tablicy, zaczynając od\n",
    "drugiego elementu."
   ]
  },
  {
   "cell_type": "code",
   "execution_count": 195,
   "id": "e54d9534-810d-4f5e-873a-efa0e35d7c4f",
   "metadata": {},
   "outputs": [
    {
     "name": "stdout",
     "output_type": "stream",
     "text": [
      "[ 20  40  60  80 100]\n"
     ]
    }
   ],
   "source": [
    "arr = np.arange(10,101,10)\n",
    "print(arr[1::2])"
   ]
  },
  {
   "cell_type": "markdown",
   "id": "4d37a58e-0a28-4bc5-b046-97289aee3a97",
   "metadata": {},
   "source": [
    "### Ćwiczenie 20: Wycinanie tablicy wielowymiarowej\n",
    "Utwórz trójwymiarową tablicę o wymiarach 4x4x3, wypełnioną losowymi wartościami całkowitymi. Wyciągnij\n",
    "drugą warstwę (trzeci wymiar) tej tablicy."
   ]
  },
  {
   "cell_type": "code",
   "execution_count": 226,
   "id": "da6879ea-7b2c-4f1e-a609-e558a58e0edf",
   "metadata": {},
   "outputs": [
    {
     "name": "stdout",
     "output_type": "stream",
     "text": [
      "[[[7 5 3]\n",
      "  [7 2 4]\n",
      "  [3 5 4]\n",
      "  [6 0 3]]\n",
      "\n",
      " [[6 6 0]\n",
      "  [2 4 5]\n",
      "  [0 6 6]\n",
      "  [6 1 0]]\n",
      "\n",
      " [[8 5 4]\n",
      "  [1 8 9]\n",
      "  [1 8 8]\n",
      "  [2 2 9]]\n",
      "\n",
      " [[3 6 2]\n",
      "  [1 8 7]\n",
      "  [3 9 7]\n",
      "  [9 6 9]]]\n"
     ]
    }
   ],
   "source": [
    "arr = np.random.randint(0,10,size=(4,4,3))\n",
    "print(arr[::1])"
   ]
  },
  {
   "cell_type": "markdown",
   "id": "55d469b8-1031-4731-bee3-4622a933550e",
   "metadata": {},
   "source": [
    "### Ćwiczenie 21: Odwrócenie kolejności elementów\n",
    "Utwórz tablicę jednowymiarową z liczbami od 1 do 10, a następnie odwróć kolejność elementów w tablicy. Możesz\n",
    "użyć funkcji flip()."
   ]
  },
  {
   "cell_type": "code",
   "execution_count": 237,
   "id": "c69e4e3c-bd27-463f-9b94-7a02e763fc29",
   "metadata": {},
   "outputs": [
    {
     "name": "stdout",
     "output_type": "stream",
     "text": [
      "[10  9  8  7  6  5  4  3  2  1]\n"
     ]
    }
   ],
   "source": [
    "arr = np.arange(1,11)\n",
    "print(np.flip(arr))"
   ]
  },
  {
   "cell_type": "markdown",
   "id": "d1f26a1b-1be5-473c-adb8-6f7d511fef56",
   "metadata": {},
   "source": [
    "### Ćwiczenie 22: Modyfikacja fragmentu tablicy\n",
    "Stwórz dwuwymiarową tablicę 5x5, wypełnioną liczbami od 1 do 25. Zastąp elementy w wierszu 2 i kolumnie 3\n",
    "wartościami 99."
   ]
  },
  {
   "cell_type": "code",
   "execution_count": 15,
   "id": "1a3e4881-9d7a-4f20-8fb8-2ab0ee461fe6",
   "metadata": {},
   "outputs": [
    {
     "name": "stdout",
     "output_type": "stream",
     "text": [
      "[[ 4  3 14  8 20]\n",
      " [10 21 24 14 22]\n",
      " [ 2  6 13  5 21]\n",
      " [ 5 19 24 21 13]\n",
      " [ 1 19 13 11 11]]\n",
      "[[ 4  3 99  8 20]\n",
      " [99 99 99 99 99]\n",
      " [ 2  6 99  5 21]\n",
      " [ 5 19 99 21 13]\n",
      " [ 1 19 99 11 11]]\n"
     ]
    }
   ],
   "source": [
    "arr = np.random.randint(1,26,size=(5,5))\n",
    "print(arr)\n",
    "arr[1,:]=99 \n",
    "arr[:,2]= 99\n",
    "print(arr)\n"
   ]
  },
  {
   "cell_type": "markdown",
   "id": "22d6eaf5-f30e-4cd2-b3eb-76c1431c594f",
   "metadata": {},
   "source": [
    "### Ćwiczenie 23: Indeksowanie z warunkiem logicznym\n",
    "Utwórz tablicę NumPy z liczbami od 1 do 20. Wyciągnij z niej wszystkie liczby parzyste."
   ]
  },
  {
   "cell_type": "code",
   "execution_count": 24,
   "id": "de9b23da-02b7-47f6-b6e8-7dd7db827dc1",
   "metadata": {},
   "outputs": [
    {
     "name": "stdout",
     "output_type": "stream",
     "text": [
      "[ 1  2  3  4  5  6  7  8  9 10 11 12 13 14 15 16 17 18 19 20]\n",
      "[ 2  4  6  8 10 12 14 16 18 20]\n"
     ]
    }
   ],
   "source": [
    "arr = np.arange(1,21)\n",
    "print(arr)\n",
    "arr = arr[arr % 2 == 0]\n",
    "print(arr)"
   ]
  },
  {
   "cell_type": "markdown",
   "id": "a462cba1-3bc3-45cc-ba33-1f89f504c826",
   "metadata": {},
   "source": [
    "### Ćwiczenie 24: Wyciąganie elementów z użyciem listy indeksów\n",
    "Stwórz jednowymiarową tablicę zawierającą liczby od 0 do 10. Wyciągnij elementy o indeksach podanych w liście\n",
    "[1, 3, 5, 7, 9]."
   ]
  },
  {
   "cell_type": "code",
   "execution_count": 29,
   "id": "ef7c9815-f51b-44f2-8bb1-5a968738db71",
   "metadata": {},
   "outputs": [
    {
     "name": "stdout",
     "output_type": "stream",
     "text": [
      "[ 0  1  2  3  4  5  6  7  8  9 10]\n",
      "[1 3 5 7 9]\n"
     ]
    }
   ],
   "source": [
    "arr = np.arange(11)\n",
    "print(arr)\n",
    "arr = arr[[1, 3, 5, 7, 9]]\n",
    "print(arr)"
   ]
  },
  {
   "cell_type": "markdown",
   "id": "b2daa233-4dbc-4f4b-a8d8-018846cc03be",
   "metadata": {},
   "source": [
    "### Ćwiczenie 25: Wycinanie tablicy z krokiem\n",
    "Utwórz tablicę jednowymiarową z liczbami od 1 do 30. Wyciągnij co trzeci element tablicy, zaczynając od piątego\n",
    "elementu."
   ]
  },
  {
   "cell_type": "code",
   "execution_count": 42,
   "id": "9cd14c39-b9b5-4af1-9aa7-c1a4c4bed227",
   "metadata": {},
   "outputs": [
    {
     "name": "stdout",
     "output_type": "stream",
     "text": [
      "[ 1  2  3  4  5  6  7  8  9 10 11 12 13 14 15 16 17 18 19 20 21 22 23 24\n",
      " 25 26 27 28 29 30]\n",
      "[ 5  8 11 14 17 20 23 26 29]\n"
     ]
    }
   ],
   "source": [
    "arr = np.arange(1,31)\n",
    "print(arr)\n",
    "res = arr[4::3]\n",
    "print(res)"
   ]
  },
  {
   "cell_type": "markdown",
   "id": "2cd3d86b-4e38-4e7e-aa5f-a2e419851922",
   "metadata": {},
   "source": [
    "## 1.3. Podstawowe operacje na danych w tablicach"
   ]
  },
  {
   "cell_type": "code",
   "execution_count": 47,
   "id": "3c9c6ea7-c34d-4c9b-89a4-02107425a72f",
   "metadata": {},
   "outputs": [],
   "source": [
    "tab_1 = np.array([1, 2, 3, 4, 5, 6])\n",
    "tab_2 = np.array([5, 6, 7, 8, 9, 10])\n",
    "tab_3 = np.arange(1, 21)\n",
    "tab_4 = np.array([[i] for i in range(2, 13, 2)])"
   ]
  },
  {
   "cell_type": "markdown",
   "id": "0b36b229-a202-44ed-a038-2b545c082e85",
   "metadata": {},
   "source": [
    "### Ćwiczenie 26: Operacje arytmetyczne I\n",
    "1. Wykonaj operację dodawania na tablicach tab_1 i tab_2.\n",
    "2. Pomnóż każdy element tablicy tab_1 przez 3.\n",
    "3. Oblicz iloczyn elementów tab_4 z liczbą 0.5.\n",
    "4. Podziel elementy tab_2 przez odpowiadające im elementy tab_1.\n",
    "5. Do każdego elementu tab_3 dodaj wektor [10, 20, 30, 40, 50].\n",
    "6. Wykonaj dzielenie modulo tab_2 przez tab_1.\n",
    "7. Pomnóż macierz tab_4 przez wektor [1, 2, 3].\n",
    "8. Podnieś elementy tab_1 do kwadratu i podziel przez 2.\n",
    "9. Wykonaj operację dzielenia całkowitego tab_3 przez 3.\n",
    "10. Pomnóż tab_4 przez transponowaną wersję samej siebie."
   ]
  },
  {
   "cell_type": "code",
   "execution_count": 54,
   "id": "175e54bc-98ff-49ef-a195-4686399dd5e1",
   "metadata": {},
   "outputs": [
    {
     "name": "stdout",
     "output_type": "stream",
     "text": [
      "[ 6  8 10 12 14 16]\n"
     ]
    }
   ],
   "source": [
    "add = tab_1 + tab_2\n",
    "print(add)"
   ]
  },
  {
   "cell_type": "code",
   "execution_count": 56,
   "id": "3bed14b2-8bab-460e-9ae6-6b3ff607c15e",
   "metadata": {},
   "outputs": [
    {
     "name": "stdout",
     "output_type": "stream",
     "text": [
      "[ 5 12 21 32 45 60]\n"
     ]
    }
   ],
   "source": [
    "multiply = tab_1 * tab_2\n",
    "print(multiply)"
   ]
  },
  {
   "cell_type": "code",
   "execution_count": 58,
   "id": "74356958-26b3-42e7-bee1-7c8e82746e98",
   "metadata": {},
   "outputs": [
    {
     "name": "stdout",
     "output_type": "stream",
     "text": [
      "[[1.]\n",
      " [2.]\n",
      " [3.]\n",
      " [4.]\n",
      " [5.]\n",
      " [6.]]\n"
     ]
    }
   ],
   "source": [
    "res = tab_4 * 0.5\n",
    "print(res)"
   ]
  },
  {
   "cell_type": "code",
   "execution_count": 60,
   "id": "c7af9eed-6c58-4a89-a1c0-030ff4865fb3",
   "metadata": {},
   "outputs": [
    {
     "name": "stdout",
     "output_type": "stream",
     "text": [
      "[5.         3.         2.33333333 2.         1.8        1.66666667]\n"
     ]
    }
   ],
   "source": [
    "res4 = tab_2 / tab_1\n",
    "print(res1)"
   ]
  },
  {
   "cell_type": "code",
   "execution_count": 66,
   "id": "63d5470f-f2fc-4f1d-ba81-ed16c215237b",
   "metadata": {},
   "outputs": [],
   "source": [
    "res5 = tab_3.reshape(4,5) + np.array([10, 20, 30, 40 ,50])"
   ]
  },
  {
   "cell_type": "code",
   "execution_count": 68,
   "id": "419363ed-5a9d-4393-ae86-317e5f70b662",
   "metadata": {},
   "outputs": [
    {
     "name": "stdout",
     "output_type": "stream",
     "text": [
      "[0 0 1 0 4 4]\n"
     ]
    }
   ],
   "source": [
    "res6 = np.mod(tab_2, tab_1)\n",
    "print(res6)"
   ]
  },
  {
   "cell_type": "code",
   "execution_count": 70,
   "id": "bee282ba-6409-42ef-bfda-7d8c87088e38",
   "metadata": {},
   "outputs": [],
   "source": [
    "res7 = tab_4 * np.array([1, 2, 3])"
   ]
  },
  {
   "cell_type": "code",
   "execution_count": 72,
   "id": "7139056b-3e2d-4c23-bf12-2f05d8416c1a",
   "metadata": {},
   "outputs": [],
   "source": [
    "res8  = (tab_1 ** 2) / 2"
   ]
  },
  {
   "cell_type": "code",
   "execution_count": null,
   "id": "3a16b8db-d731-48d3-9e56-03b82b17352c",
   "metadata": {},
   "outputs": [],
   "source": [
    "res9 = tab_3 // 3"
   ]
  },
  {
   "cell_type": "code",
   "execution_count": 74,
   "id": "c86ceb91-40ad-4069-946a-2e047dfe071f",
   "metadata": {},
   "outputs": [
    {
     "name": "stdout",
     "output_type": "stream",
     "text": [
      "[[  4   8  12  16  20  24]\n",
      " [  8  16  24  32  40  48]\n",
      " [ 12  24  36  48  60  72]\n",
      " [ 16  32  48  64  80  96]\n",
      " [ 20  40  60  80 100 120]\n",
      " [ 24  48  72  96 120 144]]\n"
     ]
    }
   ],
   "source": [
    "res10 = tab_4 @ tab_4.T\n",
    "print(res10)"
   ]
  },
  {
   "cell_type": "markdown",
   "id": "6617d014-fc07-4827-b5ed-5ad4b9202c3b",
   "metadata": {},
   "source": [
    "## Funkcje uniwersalne"
   ]
  },
  {
   "cell_type": "markdown",
   "id": "a0f69bb2-236b-41c6-a7b0-7760560ecf20",
   "metadata": {},
   "source": [
    "### Ćwiczenie 27: np.sqrt() i np.square()\n",
    "Utwórz tablicę zawierającą 10 losowych liczb całkowitych z zakresu 1 99, a następnie wykorzystaj odpowiednią\n",
    "funkcję do obliczenia:\n",
    "• pierwiastka kwadratowego każdej liczby,\n",
    "• kwadratu każdej liczby."
   ]
  },
  {
   "cell_type": "code",
   "execution_count": 88,
   "id": "35ceec6c-0ffc-426f-a73a-aa34ac49951d",
   "metadata": {},
   "outputs": [],
   "source": [
    "arr = np.random.randint(1,100,size=(10))\n",
    "sqr= np.sqrt(arr)\n",
    "square = np.square(arr)"
   ]
  },
  {
   "cell_type": "markdown",
   "id": "1f9b4a1b-6378-4871-958d-eb7f944a5826",
   "metadata": {},
   "source": [
    "### Ćwiczenie 28: np.abs()\n",
    "Oblicz bezwzględne różnice wartości w podanych tablicach:"
   ]
  },
  {
   "cell_type": "code",
   "execution_count": 91,
   "id": "eddb7427-4873-4782-a885-eb898543b7b3",
   "metadata": {},
   "outputs": [],
   "source": [
    "import random\n",
    "tab_1 = [i + random.random() for i in range(10)]\n",
    "tab_2 = [i + random.random() for i in range(1,11)]"
   ]
  },
  {
   "cell_type": "code",
   "execution_count": 95,
   "id": "f1887198-2ba7-45ac-a25f-90bcc207fe9e",
   "metadata": {},
   "outputs": [],
   "source": [
    "res = np.abs(np.array(tab_1) - np.array(tab_2))"
   ]
  },
  {
   "cell_type": "markdown",
   "id": "e43caab3-763f-4b00-ab9c-b4682f6069ea",
   "metadata": {},
   "source": [
    "### Ćwiczenie 30: np.max() kontra np.maximum()\n",
    "Dane są dwie tablice:"
   ]
  },
  {
   "cell_type": "code",
   "execution_count": 104,
   "id": "f6341f05-91c3-4662-a599-6e5f4ed25676",
   "metadata": {},
   "outputs": [
    {
     "name": "stdout",
     "output_type": "stream",
     "text": [
      "[17  3  9 14 17  5  8  6 15  5]\n",
      "[3 9 4 8 9 5 6 1 1 7]\n",
      "wynik działania funkcji max:\n",
      "17\n",
      "9\n",
      "Wynik działania funkcji maximum:\n",
      "[17  9  9 14 17  5  8  6 15  7]\n"
     ]
    }
   ],
   "source": [
    "tab_1 = np.random.randint(1, 21, 10)\n",
    "tab_2 = np.random.randint(1, 11, 10)\n",
    "print(tab_1)\n",
    "print(tab_2)\n",
    "print(\"wynik działania funkcji max:\")\n",
    "print(np.max(tab_1))\n",
    "print(np.max(tab_2))\n",
    "print(\"Wynik działania funkcji maximum:\")\n",
    "print(np.maximum(tab_1, tab_2))"
   ]
  },
  {
   "cell_type": "markdown",
   "id": "b3476f47-2847-4161-82d5-ddc054b4680c",
   "metadata": {},
   "source": [
    "### Ćwiczenie 31: Funkcje trygonometryczne\n",
    "Utwórz tablicę zawierającą kąty w radianach [π/6, π/4, π/3, π/2, π]. Wykorzystaj funkcje trygonometryczne\n",
    "do:\n",
    "• obliczenia sinusa, cosinusa i tangensa każdego kąta,\n",
    "• sprawdzenia tożsamości trygonometrycznej sin²(x) + cos²(x) = 1,\n",
    "• znalezienia kątów, dla których cos(x) > sin(x)."
   ]
  },
  {
   "cell_type": "code",
   "execution_count": 113,
   "id": "4d615625-29af-45b5-b9da-9f2b06724442",
   "metadata": {},
   "outputs": [
    {
     "name": "stdout",
     "output_type": "stream",
     "text": [
      "[5.00000000e-01 5.87785252e-01 7.07106781e-01 8.66025404e-01\n",
      " 1.00000000e+00 1.22464680e-16]\n"
     ]
    }
   ],
   "source": [
    "kat = np.pi / np.arange(6, 0, -1)\n",
    "sin = np.sin(kat)\n",
    "print(sin)"
   ]
  },
  {
   "cell_type": "markdown",
   "id": "d2bbef93-3864-4f62-b7b4-03b9db80e720",
   "metadata": {},
   "source": [
    "## 1.5 Broadcasting"
   ]
  },
  {
   "cell_type": "markdown",
   "id": "38783085-cd8d-419d-a7e7-271f0c996591",
   "metadata": {},
   "source": [
    "### Cwiczenie 32: Konwersja temperatur\n",
    "Dokonaj konwersji tabeli temperatur ze skali Celsjusza do skali Fahrenheita."
   ]
  },
  {
   "cell_type": "code",
   "execution_count": 122,
   "id": "bf6c3846-78bc-4ab7-be6e-6ba6a27e1a21",
   "metadata": {},
   "outputs": [],
   "source": [
    "temp_c = np.array([\n",
    "[20, 22, 21], # Miasto 1\n",
    "[18, 19, 20], # Miasto 2\n",
    "[23, 24, 22], # Miasto 3\n",
    "[17, 18, 19], # Miasto 4\n",
    "[21, 20, 20] # Miasto 5\n",
    "])\n",
    "temp_fa = 1.8 * temp_c + 32"
   ]
  },
  {
   "cell_type": "markdown",
   "id": "632e7d13-1984-434e-95cd-6267cd2be5de",
   "metadata": {},
   "source": [
    "### Ćwiczenie 33: Normalizacja danych\n",
    "Oblicz wynik procentowy na podstawie informacji o punktach uzyskanych przez uczniów z testów oraz maksy\n",
    "malnej licznie punktów do uzyskania z każdego testu."
   ]
  },
  {
   "cell_type": "code",
   "execution_count": 125,
   "id": "ba71f47b-f607-47c4-b09b-4959654710b6",
   "metadata": {},
   "outputs": [],
   "source": [
    "wyniki_uczniów = np.array([\n",
    "[85, 92, 78], # Uczeń 1 (matematyka, fizyka, chemia)\n",
    "[95, 88, 65], # Uczeń 2\n",
    "[78, 85, 80] # Uczeń 3\n",
    "])\n",
    "punkty_max = np.array([100, 120, 80])"
   ]
  },
  {
   "cell_type": "markdown",
   "id": "dfebb4d4-9d21-4aca-914c-036eea26f6db",
   "metadata": {},
   "source": [
    "### Ćwiczenie 34: Ceny w sklepie\n",
    "Oblicz końcowe ceny produktów w poszczególnych dniach na podstawie tabeli cen oraz tabeli rabatów. Rabaty\n",
    "są wspólne dla produktów i naliczane są w kolejne dni."
   ]
  },
  {
   "cell_type": "code",
   "execution_count": 12,
   "id": "d548b9e0-28b9-4a0f-b327-d79eb4ef116d",
   "metadata": {},
   "outputs": [
    {
     "name": "stdout",
     "output_type": "stream",
     "text": [
      "[[100  70 140]\n",
      " [110  70 140]\n",
      " [100  60 110]\n",
      " [100  40  90]]\n"
     ]
    }
   ],
   "source": [
    "ceny_produktow = np.array([\n",
    "# produkty\n",
    "[100, 70, 140], # dzień 1\n",
    "[120, 80, 150], # dzień 2\n",
    "[120, 80, 130], # dzień 3\n",
    "[130, 70, 120], # dzień 4\n",
    "])\n",
    "# dzień: 1 2 3 4\n",
    "rabaty = np.array([0, 10, 20, 30])\n",
    "prices = ceny_produktow - rabaty.reshape(-1, 1)\n",
    "print(prices)"
   ]
  },
  {
   "cell_type": "markdown",
   "id": "755f66cb-6ac0-4d46-9adc-a0f1c457f7c1",
   "metadata": {},
   "source": [
    "### Ćwiczenie 35: Mapa wartości\n",
    "Utwórz mapę wartości o rozmiarze 1000x1000 tak, aby w lewym górnym rogu była wartość 0 a prawym dolnym\n",
    "wartość 1. wartości pomiędzy powinny rosnąć liniowo, tak jak ma to miejsce na przykład w tablicy poniżej:"
   ]
  },
  {
   "cell_type": "code",
   "execution_count": 39,
   "id": "6a1e6b7a-8c2c-4474-88a1-0abb204154f5",
   "metadata": {},
   "outputs": [
    {
     "name": "stdout",
     "output_type": "stream",
     "text": [
      "[[0.992016 0.993012 0.994008 0.995004 0.996   ]\n",
      " [0.993012 0.994009 0.995006 0.996003 0.997   ]\n",
      " [0.994008 0.995006 0.996004 0.997002 0.998   ]\n",
      " [0.995004 0.996003 0.997002 0.998001 0.999   ]\n",
      " [0.996    0.997    0.998    0.999    1.      ]]\n"
     ]
    }
   ],
   "source": [
    "x = np.linspace(0,1,1001).reshape(1,-1)\n",
    "y = np.linspace(0,1,1001).reshape(-1, 1)\n",
    "mapa = x * y\n",
    "print(mapa[-5:, -5:])"
   ]
  },
  {
   "cell_type": "markdown",
   "id": "ffe1974e-3567-4c24-85a2-8df08685ea5d",
   "metadata": {},
   "source": [
    "## 1.6. Własne funkcje uniwersalne"
   ]
  },
  {
   "cell_type": "markdown",
   "id": "71329811-a47c-4eae-a58c-60acd7932378",
   "metadata": {},
   "source": [
    "### Ćwiczenie 36: Oceny z testów\n",
    "Napisz funkcję uniwersalną, która przyjmuje tablicę wyników (0-100) i zwraca oceny według skali:\n",
    "• poniżej 50: „2”\n",
    "• 5069: „3”\n",
    "• 7084: „4”\n",
    "• 85100: „5”\n",
    "Następnie zastosuj tę funkcję do tablicy 2D reprezentującej wyniki wielu uczniów z różnych testów:"
   ]
  },
  {
   "cell_type": "code",
   "execution_count": 50,
   "id": "960c993f-55c8-4647-b375-0022535dd6ad",
   "metadata": {},
   "outputs": [
    {
     "name": "stdout",
     "output_type": "stream",
     "text": [
      "[[2 3 5 5]\n",
      " [4 4 5 5]\n",
      " [2 3 4 4]]\n"
     ]
    }
   ],
   "source": [
    "wyniki = np.array([\n",
    "# test:\n",
    "# 1 2 3 4\n",
    "[45, 67, 89, 92], # uczeń 1\n",
    "[78, 83, 95, 89], # uczeń 2\n",
    "[49, 65, 75, 83] # uczeń 3\n",
    "])\n",
    "def ocena(x):\n",
    "    if x < 50:\n",
    "        return 2\n",
    "    elif x < 70:\n",
    "        return 3\n",
    "    elif x <85:\n",
    "        return 4\n",
    "    else:\n",
    "        return 5\n",
    "\n",
    "ocena_v = np.vectorize(ocena)\n",
    "\n",
    "print(ocena_v(wyniki))"
   ]
  },
  {
   "cell_type": "markdown",
   "id": "333cefa8-7807-454c-bf13-f4f623debb7a",
   "metadata": {},
   "source": [
    "### Ćwiczenie 37: Zmiana wartości\n",
    "Napisz funkcję uniwersalną, która przyjmuje tablicę danych opisujących czas trwania eksperymentu i dokonuje\n",
    "konwersji z formatu „HH:MM” na sekundy. Przykładowa tablica danych wygląda następująco:"
   ]
  },
  {
   "cell_type": "code",
   "execution_count": 61,
   "id": "a2b3593d-cdd1-462c-b485-b350a5d2d68e",
   "metadata": {},
   "outputs": [
    {
     "name": "stdout",
     "output_type": "stream",
     "text": [
      "[ 4800 11700  9900  4980  8640  6420]\n"
     ]
    }
   ],
   "source": [
    "experiments_duration = np.array([\"01:20\",\"03:15\",\"02:45\", \"01:23\", \"02:24\", \"01:47\"])\n",
    "\n",
    "def convert(hour):\n",
    "    h, m = hour.split(':')\n",
    "    return int(h) * 3600 + int(m) * 60\n",
    "\n",
    "convert_v = np.vectorize(convert)\n",
    "print(convert_v(experiments_duration))"
   ]
  },
  {
   "cell_type": "markdown",
   "id": "fead2c76-9352-44a5-9241-6e34f62b76fc",
   "metadata": {},
   "source": [
    "### Ćwiczenie 38: Tabela BMI\n",
    "Napisz funkcję, która przyjmuje dwa argumenty: masę wyrażoną w kilogramach oraz wzrost w centymetrach i\n",
    "zwraca wartości:"
   ]
  },
  {
   "cell_type": "code",
   "execution_count": 64,
   "id": "dc76553b-4cae-4d6a-8e94-6f3e33a9bc4d",
   "metadata": {},
   "outputs": [
    {
     "ename": "ValueError",
     "evalue": "cannot convert float NaN to integer",
     "output_type": "error",
     "traceback": [
      "\u001b[0;31m---------------------------------------------------------------------------\u001b[0m",
      "\u001b[0;31mValueError\u001b[0m                                Traceback (most recent call last)",
      "Cell \u001b[0;32mIn[64], line 13\u001b[0m\n\u001b[1;32m     10\u001b[0m mass \u001b[38;5;241m=\u001b[39m np\u001b[38;5;241m.\u001b[39marray([\u001b[38;5;241m90\u001b[39m, \u001b[38;5;241m80\u001b[39m, \u001b[38;5;241m94\u001b[39m, \u001b[38;5;241m107\u001b[39m])\n\u001b[1;32m     11\u001b[0m height \u001b[38;5;241m=\u001b[39m np\u001b[38;5;241m.\u001b[39marray([\u001b[38;5;241m172\u001b[39m, \u001b[38;5;241m189\u001b[39m, \u001b[38;5;241m0\u001b[39m, \u001b[38;5;241m164\u001b[39m])\n\u001b[0;32m---> 13\u001b[0m \u001b[38;5;28mprint\u001b[39m(bmi_calc_vec(mass, height))\n",
      "File \u001b[0;32m/opt/anaconda3/lib/python3.12/site-packages/numpy/lib/function_base.py:2372\u001b[0m, in \u001b[0;36mvectorize.__call__\u001b[0;34m(self, *args, **kwargs)\u001b[0m\n\u001b[1;32m   2369\u001b[0m     \u001b[38;5;28mself\u001b[39m\u001b[38;5;241m.\u001b[39m_init_stage_2(\u001b[38;5;241m*\u001b[39margs, \u001b[38;5;241m*\u001b[39m\u001b[38;5;241m*\u001b[39mkwargs)\n\u001b[1;32m   2370\u001b[0m     \u001b[38;5;28;01mreturn\u001b[39;00m \u001b[38;5;28mself\u001b[39m\n\u001b[0;32m-> 2372\u001b[0m \u001b[38;5;28;01mreturn\u001b[39;00m \u001b[38;5;28mself\u001b[39m\u001b[38;5;241m.\u001b[39m_call_as_normal(\u001b[38;5;241m*\u001b[39margs, \u001b[38;5;241m*\u001b[39m\u001b[38;5;241m*\u001b[39mkwargs)\n",
      "File \u001b[0;32m/opt/anaconda3/lib/python3.12/site-packages/numpy/lib/function_base.py:2365\u001b[0m, in \u001b[0;36mvectorize._call_as_normal\u001b[0;34m(self, *args, **kwargs)\u001b[0m\n\u001b[1;32m   2362\u001b[0m     vargs \u001b[38;5;241m=\u001b[39m [args[_i] \u001b[38;5;28;01mfor\u001b[39;00m _i \u001b[38;5;129;01min\u001b[39;00m inds]\n\u001b[1;32m   2363\u001b[0m     vargs\u001b[38;5;241m.\u001b[39mextend([kwargs[_n] \u001b[38;5;28;01mfor\u001b[39;00m _n \u001b[38;5;129;01min\u001b[39;00m names])\n\u001b[0;32m-> 2365\u001b[0m \u001b[38;5;28;01mreturn\u001b[39;00m \u001b[38;5;28mself\u001b[39m\u001b[38;5;241m.\u001b[39m_vectorize_call(func\u001b[38;5;241m=\u001b[39mfunc, args\u001b[38;5;241m=\u001b[39mvargs)\n",
      "File \u001b[0;32m/opt/anaconda3/lib/python3.12/site-packages/numpy/lib/function_base.py:2458\u001b[0m, in \u001b[0;36mvectorize._vectorize_call\u001b[0;34m(self, func, args)\u001b[0m\n\u001b[1;32m   2455\u001b[0m outputs \u001b[38;5;241m=\u001b[39m ufunc(\u001b[38;5;241m*\u001b[39minputs)\n\u001b[1;32m   2457\u001b[0m \u001b[38;5;28;01mif\u001b[39;00m ufunc\u001b[38;5;241m.\u001b[39mnout \u001b[38;5;241m==\u001b[39m \u001b[38;5;241m1\u001b[39m:\n\u001b[0;32m-> 2458\u001b[0m     res \u001b[38;5;241m=\u001b[39m asanyarray(outputs, dtype\u001b[38;5;241m=\u001b[39motypes[\u001b[38;5;241m0\u001b[39m])\n\u001b[1;32m   2459\u001b[0m \u001b[38;5;28;01melse\u001b[39;00m:\n\u001b[1;32m   2460\u001b[0m     res \u001b[38;5;241m=\u001b[39m \u001b[38;5;28mtuple\u001b[39m([asanyarray(x, dtype\u001b[38;5;241m=\u001b[39mt)\n\u001b[1;32m   2461\u001b[0m                  \u001b[38;5;28;01mfor\u001b[39;00m x, t \u001b[38;5;129;01min\u001b[39;00m \u001b[38;5;28mzip\u001b[39m(outputs, otypes)])\n",
      "\u001b[0;31mValueError\u001b[0m: cannot convert float NaN to integer"
     ]
    }
   ],
   "source": [
    "def bmi_calc(mass, height):\n",
    "    if height == 0: return np.nan\n",
    "    bmi = mass / (height/100)**2\n",
    "    if bmi >= 30: return 2 # 2.0 - patrz opis poniżej\n",
    "    elif bmi >= 25: return 1 # 1.0\n",
    "    elif bmi >= 18.5: return 0 # 0.0\n",
    "    else: return -1 # -1.0\n",
    "bmi_calc_vec = np.vectorize(bmi_calc)\n",
    "\n",
    "mass = np.array([90, 80, 94, 107])\n",
    "height = np.array([172, 189, 0, 164])\n",
    "\n",
    "print(bmi_calc_vec(mass, height))"
   ]
  },
  {
   "cell_type": "markdown",
   "id": "a07dd212-bd17-4611-ab14-78d66ce31b63",
   "metadata": {},
   "source": [
    "## 1.7 Funkcje agregujce i statystyki opisowe"
   ]
  },
  {
   "cell_type": "markdown",
   "id": "72a00ad7-54af-404f-9c2e-c347acb515f8",
   "metadata": {},
   "source": [
    "#### 1. Napisz funkcję, która zwraca tablicę o rozmiarze n wypełnioną liczbami całkowitymi z podanego zakresu.\n",
    "Rozkład wartości powinien być jednostajny."
   ]
  },
  {
   "cell_type": "code",
   "execution_count": 88,
   "id": "d2736f30-e1a6-4c6d-89c0-4fbe51509eca",
   "metadata": {},
   "outputs": [],
   "source": [
    "def tablica_jednostajna(n, min_val, max_val):\n",
    "    return np.random.randint(min_val, max_val - 1, size = n)"
   ]
  },
  {
   "cell_type": "markdown",
   "id": "118041c3-0928-4a34-91c4-f2e37493e873",
   "metadata": {},
   "source": [
    "#### 2. Zmodyfikuj funkcję, z poprzedniego zadania,w taki sposób, aby zwracała liczby całkowite spełniające wymogi rozkładu normalnego. \n",
    "Liczby powinny być skupione wokół podanej wartości z ustalonym rozrzutem."
   ]
  },
  {
   "cell_type": "code",
   "execution_count": 76,
   "id": "9fa0f99e-90ad-40c9-8d1f-f745ad9cf835",
   "metadata": {},
   "outputs": [],
   "source": [
    "def tablica_normalna(n, avg, std):\n",
    "    arr = np.random.normal(loc = avg, scale= std, size = n)\n",
    "    return np.round(arr).astype(int)"
   ]
  },
  {
   "cell_type": "markdown",
   "id": "e3eb8e81-d1c6-472f-8d8b-f7f6b41b83ac",
   "metadata": {},
   "source": [
    "#### 3. Napisz funkcję, która zwraca tablice o rozmiarze n x m wypełnioną wartościami opisanymi w punkcie 1."
   ]
  },
  {
   "cell_type": "code",
   "execution_count": 79,
   "id": "72f34a56-58dc-4bb4-9f42-72783311c9b0",
   "metadata": {},
   "outputs": [],
   "source": [
    "def tablica_jednostajna_nm(n, m, min_wartosc, max_wartosc):\n",
    "    return tablica_jednostajna(n*m, min_wartosc, max_wartosc).reshape(n, m)"
   ]
  },
  {
   "cell_type": "markdown",
   "id": "455bac6f-e977-4c62-a384-16fd2d84943d",
   "metadata": {},
   "source": [
    "### Ćwiczenie 39: Temperatury\n",
    "Masz tablicę pomiarów temperatury z 24 godzin:\n",
    "temperatury = tablica_jednostajna(24, 18, 26)"
   ]
  },
  {
   "cell_type": "code",
   "execution_count": 92,
   "id": "99eefb3b-b11a-4faf-abaf-3704e67f896a",
   "metadata": {},
   "outputs": [
    {
     "name": "stdout",
     "output_type": "stream",
     "text": [
      "[20 18 21 20 19 23 21 18 20 22 20 18 21 22 19 22 18 20 20 18 19 18 20 20]\n"
     ]
    }
   ],
   "source": [
    "temps = tablica_jednostajna(24, 18, 26)\n",
    "print(temps)"
   ]
  },
  {
   "cell_type": "markdown",
   "id": "22675b05-bff5-4aed-8d37-52db1047db69",
   "metadata": {},
   "source": [
    "Napisz program, który:\n",
    "• znajdzie najwyższą i najniższą temperaturę,\n",
    "• obliczy średnią temperaturę,\n",
    "• obliczy różnicę między temperaturą maksymalną a minimalną.\n",
    "• obliczy liczbę dni ze średnią temperaturą większą niż 22 stopnie,\n",
    "• obliczy średnią temperaturę dla zbioru temperatur powyżej 22 stopni."
   ]
  },
  {
   "cell_type": "code",
   "execution_count": 97,
   "id": "64932d9c-a22c-405b-9259-b9168476e7a0",
   "metadata": {},
   "outputs": [],
   "source": [
    "min, max = np.min(temps), np.max(temps)"
   ]
  },
  {
   "cell_type": "code",
   "execution_count": 103,
   "id": "7e3c375d-3ed4-461e-be79-2679035a7f63",
   "metadata": {},
   "outputs": [],
   "source": [
    "average = np.mean(temps)\n",
    "dailies = np.sum(temps > 22)\n",
    "avg_dail = np.mean(dailies)"
   ]
  },
  {
   "cell_type": "markdown",
   "id": "3f2f0a63-8dbb-42d9-954e-f6310f933215",
   "metadata": {},
   "source": [
    "### Ćwiczenie 40: Zawody sportowe\n",
    "Dana jest tablica wyników trzech drużyn w czterech konkurencjach:"
   ]
  },
  {
   "cell_type": "code",
   "execution_count": 106,
   "id": "b7dd52be-ac3c-407e-a1ec-0430381950db",
   "metadata": {},
   "outputs": [],
   "source": [
    "wyniki = tablica_jednostajna_nm(3, 4, 0, 10)"
   ]
  },
  {
   "cell_type": "code",
   "execution_count": 136,
   "id": "4dd6ae00-1079-4b2f-b880-0d7287706d4c",
   "metadata": {},
   "outputs": [
    {
     "name": "stdout",
     "output_type": "stream",
     "text": [
      "Srednia druzyny 1: 4.75\n",
      "Srednia druzyny 2: 4.00\n",
      "Srednia druzyny 3: 3.00\n",
      "Najlepszy wynik w konkurencji 1: 7.00\n",
      "Najlepszy wynik w konkurencji 2: 7.00\n",
      "Najlepszy wynik w konkurencji 3: 6.00\n",
      "Najlepszy wynik w konkurencji 4: 7.00\n",
      "Najmniejsze odchylenie standardowe ma drużyna 3\n"
     ]
    }
   ],
   "source": [
    "wyniki\n",
    "# Srednia dla kazdej dru\n",
    "team_avg = np.mean(wyniki,axis=1)\n",
    "for i, aver in enumerate(team_avg):\n",
    "    print(f\"Srednia druzyny {i+1}: {aver:.2f}\")\n",
    "comp_max = np.max(wyniki, axis=0)\n",
    "for i, wynik in enumerate(comp_max):\n",
    "    print(f\"Najlepszy wynik w konkurencji {i+1}: {wynik:.2f}\")\n",
    "# Odchylenie standardowe dla każdej drużyny\n",
    "odchylenia = np.std(wyniki, axis=1)\n",
    "# Znalezienie indeksu drużyny z najmniejszym odchyleniem\n",
    "# Funkcja argmin zwraca indeks najmniejszego elementu tablicy\n",
    "druzyna_minstd_index = np.argmin(odchylenia)\n",
    "print(f\"Najmniejsze odchylenie standardowe ma drużyna {druzyna_minstd_index + 1}\")"
   ]
  },
  {
   "cell_type": "markdown",
   "id": "1a7ec090-a116-46f3-8d08-8b272ec1d4cf",
   "metadata": {},
   "source": [
    "### Ćwiczenie 41: Analiza sprzedaży\n",
    "Masz dane sprzedaży z pięciu sklepów za ostatni tydzień:"
   ]
  },
  {
   "cell_type": "code",
   "execution_count": 141,
   "id": "325f38b5-3712-4e10-85af-ac0b19307b50",
   "metadata": {},
   "outputs": [
    {
     "data": {
      "text/plain": [
       "array([[12000, 11000, 11000, 10000, 18000, 18000, 15000],\n",
       "       [12000, 16000, 16000, 11000, 11000, 15000, 10000],\n",
       "       [13000, 18000, 15000, 12000, 16000, 17000, 11000],\n",
       "       [13000, 13000, 14000, 14000, 10000, 12000, 17000],\n",
       "       [17000, 18000, 14000, 17000, 13000, 11000, 12000]])"
      ]
     },
     "execution_count": 141,
     "metadata": {},
     "output_type": "execute_result"
    }
   ],
   "source": [
    "sprzedaz = tablica_jednostajna_nm(5, 7, 10, 20) * 1000\n",
    "sprzedaz"
   ]
  },
  {
   "cell_type": "code",
   "execution_count": 161,
   "id": "cd8b9db6-6b65-4d7f-8c81-aa0ee1f797d6",
   "metadata": {},
   "outputs": [
    {
     "name": "stdout",
     "output_type": "stream",
     "text": [
      "Lczna sprzedaz sklepów:  [ 95000  91000 102000  93000 102000]\n",
      "day_with_highest_sale  1\n"
     ]
    }
   ],
   "source": [
    "# Laczna sprzedaz kazdego sklepu\n",
    "total_sell = np.sum(sprzedaz, axis = 1)\n",
    "print(f\"Lczna sprzedaz sklepów: \", total_sell)\n",
    "# Dzień z najwyższą łączną sprzedażą we wszystkich sklepach,\n",
    "day_sale = np.sum(sprzedaz, axis = 0)\n",
    "day_with_highest_sale = np.argmax(day_sale)\n",
    "print(\"day_with_highest_sale \", day_with_highest_sale)\n",
    "# średnią dzienną sprzedaż dla każdego sklepu.\n",
    "day_avg = np.mean(sprzedaz, axis = 1)"
   ]
  },
  {
   "cell_type": "markdown",
   "id": "40e948fa-7d23-4d76-b714-1afabf43ff6f",
   "metadata": {},
   "source": [
    "### Ćwiczenie 42: Problemy z ciśnieniem\n",
    "Masz tablicę z pomiarami ciśnienia krwi pacjentów:"
   ]
  },
  {
   "cell_type": "code",
   "execution_count": 166,
   "id": "c6405404-11f6-44fc-b91b-bb70749b8e36",
   "metadata": {},
   "outputs": [],
   "source": [
    "cisnienie = np.array([\n",
    "# [skurczowe, rozkurczowe]\n",
    "[120, 80], # pacjent 1\n",
    "[130, 85], # pacjent 2\n",
    "[125, 82], # ...\n",
    "[140, 90],\n",
    "[135, 88],\n",
    "[128, 83]\n",
    "])\n"
   ]
  },
  {
   "cell_type": "code",
   "execution_count": 192,
   "id": "11ffbaa8-223f-44a4-875f-3b8ec7902209",
   "metadata": {},
   "outputs": [
    {
     "name": "stdout",
     "output_type": "stream",
     "text": [
      "[125.75  82.5 ]\n"
     ]
    }
   ],
   "source": [
    "# Napisz program, który znajdzie:\n",
    "# • indeksy pacjentów z ciśnieniem skurczowym powyżej 130\n",
    "idx = np.where(cisnienie[:,0] > 130)[0]\n",
    "# Liczbę pacjentów z ciśnieniem rozkurczowym poniżej 85\n",
    "pat_sum = np.sum(cisnienie[:,1] < 85)\n",
    "# Średnia wartość ciśnienia dla pacjentów z prawidłowym ciśnieniem (skurczowe <= 130 i rozkurczowe <= 85)\n",
    "maska = (cisnienie[:,0] <= 130) & (cisnienie[:,1] <= 85)\n",
    "correct = cisnienie[maska]\n",
    "avg = np.mean(correct, axis = 0)\n",
    "print(avg)\n"
   ]
  },
  {
   "cell_type": "markdown",
   "id": "9ba33a8e-a7ad-4510-9835-bbc92ae997b2",
   "metadata": {},
   "source": [
    "### Ćwiczenie 43: Analiza ocen\n",
    "Masz tablicę wyników procentowych z testu dla grupy studentów:"
   ]
  },
  {
   "cell_type": "code",
   "execution_count": 211,
   "id": "203d327a-b56e-4281-b57c-0fb29f145a91",
   "metadata": {},
   "outputs": [
    {
     "name": "stdout",
     "output_type": "stream",
     "text": [
      "Wynik 82.0% -> ocena 4.5\n",
      "Wynik 77.0% -> ocena 4.0\n",
      "Wynik 100.0% -> ocena 5.0\n",
      "Wynik 31.0% -> ocena 2.0\n",
      "Wynik 70.0% -> ocena 4.0\n",
      "Wynik 83.0% -> ocena 4.5\n",
      "Wynik 100.0% -> ocena 5.0\n",
      "Wynik 22.0% -> ocena 2.0\n",
      "Wynik 100.0% -> ocena 5.0\n",
      "Wynik 73.0% -> ocena 4.0\n",
      "Wynik 50.0% -> ocena 3.0\n",
      "Wynik 85.0% -> ocena 4.5\n",
      "Wynik 99.0% -> ocena 5.0\n",
      "Wynik 38.0% -> ocena 2.0\n",
      "Wynik 100.0% -> ocena 5.0\n",
      "Wynik 63.0% -> ocena 3.5\n",
      "Wynik 79.0% -> ocena 4.0\n",
      "Wynik 39.0% -> ocena 2.0\n",
      "Wynik 70.0% -> ocena 4.0\n",
      "Wynik 88.0% -> ocena 4.5\n",
      "Wynik 56.0% -> ocena 3.0\n",
      "Wynik 36.0% -> ocena 2.0\n",
      "Wynik 91.0% -> ocena 5.0\n",
      "Wynik 47.0% -> ocena 2.0\n",
      "Wynik 74.0% -> ocena 4.0\n",
      "Wynik 89.0% -> ocena 4.5\n",
      "Wynik 100.0% -> ocena 5.0\n",
      "Wynik 96.0% -> ocena 5.0\n",
      "Wynik 52.0% -> ocena 3.0\n",
      "Wynik 69.0% -> ocena 3.5\n",
      "Wynik 28.0% -> ocena 2.0\n",
      "Wynik 70.0% -> ocena 4.0\n",
      "Wynik 94.0% -> ocena 5.0\n",
      "Wynik 60.0% -> ocena 3.5\n",
      "Wynik 69.0% -> ocena 3.5\n",
      "Wynik 49.0% -> ocena 2.0\n",
      "Wynik 45.0% -> ocena 2.0\n",
      "Wynik 82.0% -> ocena 4.5\n",
      "Wynik 81.0% -> ocena 4.5\n",
      "Wynik 51.0% -> ocena 3.0\n",
      "Wynik 100.0% -> ocena 5.0\n",
      "Wynik 58.0% -> ocena 3.0\n",
      "Wynik 26.0% -> ocena 2.0\n",
      "Wynik 98.0% -> ocena 5.0\n",
      "Wynik 22.0% -> ocena 2.0\n",
      "Wynik 60.0% -> ocena 3.5\n",
      "Wynik 35.0% -> ocena 2.0\n",
      "Wynik 18.0% -> ocena 2.0\n",
      "Wynik 17.0% -> ocena 2.0\n",
      "Wynik 63.0% -> ocena 3.5\n",
      "Wynik 55.0% -> ocena 3.0\n",
      "Wynik 63.0% -> ocena 3.5\n",
      "Wynik 100.0% -> ocena 5.0\n",
      "Wynik 59.0% -> ocena 3.0\n",
      "Wynik 44.0% -> ocena 2.0\n",
      "Wynik 0.0% -> ocena 2.0\n",
      "Wynik 52.0% -> ocena 3.0\n",
      "Wynik 85.0% -> ocena 4.5\n",
      "Wynik 56.0% -> ocena 3.0\n",
      "Wynik 100.0% -> ocena 5.0\n",
      "Wynik 97.0% -> ocena 5.0\n",
      "Wynik 43.0% -> ocena 2.0\n",
      "Wynik 100.0% -> ocena 5.0\n",
      "Wynik 57.0% -> ocena 3.0\n",
      "Wynik 55.0% -> ocena 3.0\n",
      "Wynik 21.0% -> ocena 2.0\n",
      "Wynik 100.0% -> ocena 5.0\n",
      "Wynik 85.0% -> ocena 4.5\n",
      "Wynik 100.0% -> ocena 5.0\n",
      "Wynik 46.0% -> ocena 2.0\n",
      "Wynik 83.0% -> ocena 4.5\n",
      "Wynik 43.0% -> ocena 2.0\n",
      "Wynik 22.0% -> ocena 2.0\n",
      "Wynik 31.0% -> ocena 2.0\n",
      "Wynik 70.0% -> ocena 4.0\n",
      "Wynik 47.0% -> ocena 2.0\n",
      "Wynik 46.0% -> ocena 2.0\n",
      "Wynik 38.0% -> ocena 2.0\n",
      "Wynik 100.0% -> ocena 5.0\n",
      "Wynik 60.0% -> ocena 3.5\n",
      "Wynik 71.0% -> ocena 4.0\n",
      "Wynik 57.0% -> ocena 3.0\n",
      "Wynik 42.0% -> ocena 2.0\n",
      "Wynik 100.0% -> ocena 5.0\n",
      "Wynik 86.0% -> ocena 4.5\n",
      "Wynik 48.0% -> ocena 2.0\n",
      "Wynik 100.0% -> ocena 5.0\n",
      "Wynik 0.0% -> ocena 2.0\n",
      "Wynik 89.0% -> ocena 4.5\n",
      "Wynik 77.0% -> ocena 4.0\n",
      "Wynik 71.0% -> ocena 4.0\n",
      "Wynik 100.0% -> ocena 5.0\n",
      "Wynik 96.0% -> ocena 5.0\n",
      "Wynik 100.0% -> ocena 5.0\n",
      "Wynik 100.0% -> ocena 5.0\n",
      "Wynik 66.0% -> ocena 3.5\n",
      "Wynik 37.0% -> ocena 2.0\n",
      "Wynik 78.0% -> ocena 4.0\n",
      "Wynik 84.0% -> ocena 4.5\n",
      "Wynik 49.0% -> ocena 2.0\n",
      "Studenci z ocena 5.0: 24\n"
     ]
    }
   ],
   "source": [
    "wyniki = tablica_normalna(100, 65, 30)\n",
    "# zadbajmy o to aby wyniki studentów miały sens:\n",
    "wyniki[wyniki < 0] = 0\n",
    "wyniki[wyniki >100] = 100\n",
    "wyniki = np.clip(tablica_normalna(100, 65, 30), 0, 100)\n",
    "#Napisz program który:\n",
    "#• używając np.where(), przypisze oceny według schematu:\n",
    "#‣ 90 i więcej: 5.0\n",
    "#‣ 8089: 4.5\n",
    "#‣ 7079: 4.0\n",
    "#‣ 6069: 3.5\n",
    "#‣ 5059: 3.0\n",
    "#‣ poniżej 50: 2.0\n",
    "#• wyświetli pierwotny wynik obok oceny dla każdego studenta,\n",
    "#• policzy, ilu studentów otrzymało każdą z ocen.\n",
    "# Przypisanie ocen używając np.where()\n",
    "oceny = np.where(wyniki >= 90, 5.0,\n",
    "np.where(wyniki >= 80, 4.5,\n",
    "np.where(wyniki >= 70, 4.0,\n",
    "np.where(wyniki >= 60, 3.5,\n",
    "np.where(wyniki >= 50, 3.0, 2.0)))))\n",
    "for wynik, ocena in zip(wyniki, oceny):\n",
    "    print(f\"Wynik {wynik:.1f}% -> ocena {ocena}\")\n",
    "\n",
    "# Policzenie liczby studentów z każdą oceną\n",
    "oceny_wartosci = [2.0, 3.0, 3.5, 4.0, 4.5, 5.0]\n",
    "for ocena in oceny_wartosci:\n",
    "    liczba_studentow = np.sum(oceny == ocena)\n",
    "print(f\"Studenci z ocena {ocena}: {liczba_studentow}\")"
   ]
  },
  {
   "cell_type": "markdown",
   "id": "fd6f1b89-0647-47e5-8e42-ea1e011825b0",
   "metadata": {},
   "source": [
    "## 1.8. Łączenie i dzielenie tablic"
   ]
  },
  {
   "cell_type": "markdown",
   "id": "68588503-7388-4701-ba75-423d166e94eb",
   "metadata": {},
   "source": [
    "### Ćwiczenie 44: Jak działa stack?\n",
    "Mamy trzy tablice:"
   ]
  },
  {
   "cell_type": "code",
   "execution_count": 224,
   "id": "c2213bef-bff1-4c18-99ee-b577ff50b41c",
   "metadata": {},
   "outputs": [
    {
     "name": "stdout",
     "output_type": "stream",
     "text": [
      "[1. 2. 3.]\n",
      "[1. 1. 1. 1.]\n"
     ]
    }
   ],
   "source": [
    "tab_1 = np.ones((4, 4))\n",
    "tab_2 = tab_1 * 2\n",
    "tab_3 = tab_1 * 3\n",
    "stack_1 = np.stack((tab_1, tab_2, tab_3), axis = 2)\n",
    "stack_2 = np.stack((tab_1, tab_2, tab_3), axis=0)\n",
    "print(stack_1[0,0])\n",
    "print(stack_2[0,0])\n"
   ]
  },
  {
   "cell_type": "markdown",
   "id": "51b0ef44-b8ff-482c-8e13-cea614a707d4",
   "metadata": {},
   "source": [
    "### Ćwiczenie 45: np.concatenate()\n",
    "Wykorzystując tablice tab_1 i tab_2 z poprzedniego zadania utwórz tablicę pokazaną poniżej:"
   ]
  },
  {
   "cell_type": "code",
   "execution_count": 247,
   "id": "66659b1d-5016-405d-9d45-f455d5a80e29",
   "metadata": {},
   "outputs": [
    {
     "data": {
      "text/plain": [
       "array([[1., 1., 1., 1., 2., 2., 2., 2.],\n",
       "       [1., 1., 1., 1., 2., 2., 2., 2.],\n",
       "       [1., 1., 1., 1., 2., 2., 2., 2.],\n",
       "       [1., 1., 1., 1., 2., 2., 2., 2.],\n",
       "       [2., 2., 2., 2., 1., 1., 1., 1.],\n",
       "       [2., 2., 2., 2., 1., 1., 1., 1.],\n",
       "       [2., 2., 2., 2., 1., 1., 1., 1.],\n",
       "       [2., 2., 2., 2., 1., 1., 1., 1.]])"
      ]
     },
     "execution_count": 247,
     "metadata": {},
     "output_type": "execute_result"
    }
   ],
   "source": [
    "first =  np.concatenate((tab_1, tab_2), axis = 1)\n",
    "second = np.concatenate((tab_2, tab_1), axis = 1)\n",
    "res = np.concatenate((first,second), axis= 0)\n",
    "res"
   ]
  },
  {
   "cell_type": "markdown",
   "id": "4372e026-47a7-47a8-a3ad-9fdb74c35f32",
   "metadata": {},
   "source": [
    "### Ćwiczenie 46: Inny sposób\n",
    "Utwórz tablicę opisana w poprzednim zadaniu wykorzystując zaawansowane metody selekcji wycinków."
   ]
  },
  {
   "cell_type": "code",
   "execution_count": 266,
   "id": "eab68443-a075-4fda-b0e2-cd190abe3e04",
   "metadata": {},
   "outputs": [
    {
     "data": {
      "text/plain": [
       "array([[1., 1., 1., 1., 2., 2., 2., 2.],\n",
       "       [1., 1., 1., 1., 2., 2., 2., 2.],\n",
       "       [1., 1., 1., 1., 2., 2., 2., 2.],\n",
       "       [1., 1., 1., 1., 2., 2., 2., 2.],\n",
       "       [2., 2., 2., 2., 1., 1., 1., 1.],\n",
       "       [2., 2., 2., 2., 1., 1., 1., 1.],\n",
       "       [2., 2., 2., 2., 1., 1., 1., 1.],\n",
       "       [2., 2., 2., 2., 1., 1., 1., 1.]])"
      ]
     },
     "execution_count": 266,
     "metadata": {},
     "output_type": "execute_result"
    }
   ],
   "source": [
    "n = 8\n",
    "tab = np.ones((n, n))\n",
    "tab[(n // 2):n, 0:(n // 2)] = tab[(n // 2):n, 0:(n // 2)] * 2\n",
    "tab[0: n//2,(n // 2):n] = tab[0: n//2,(n // 2):n] * 2\n",
    "tab"
   ]
  },
  {
   "cell_type": "markdown",
   "id": "060a091d-1984-458b-81f8-13b88a9d2fcf",
   "metadata": {},
   "source": [
    "### Ćwiczenie 47: Uśrednianie pikseli\n",
    "Tablice zdefiniowane poniżej opisują trzy obrazy o rozmiarze 16x16 pikseli w skali szarości o wartościach z\n",
    "przedziału od 0 do 1. Dokonaj „złożenia” tych obrazów w jeden, uśredniając wartości dla każdego piksela."
   ]
  },
  {
   "cell_type": "code",
   "execution_count": 269,
   "id": "7fef2b56-df23-4fab-98c2-08d9a20bedfd",
   "metadata": {},
   "outputs": [],
   "source": [
    "n = 16"
   ]
  },
  {
   "cell_type": "code",
   "execution_count": 285,
   "id": "80c38d05-7d30-4869-aed0-aee45980b4d3",
   "metadata": {},
   "outputs": [
    {
     "data": {
      "text/plain": [
       "array([0.44705453, 0.82010664, 0.49524765])"
      ]
     },
     "execution_count": 285,
     "metadata": {},
     "output_type": "execute_result"
    }
   ],
   "source": [
    "p1 = np.random.rand(n**2).reshape(n,n)\n",
    "p2 = np.random.rand(n**2).reshape(n,n)\n",
    "p3 = np.random.rand(n**2).reshape(n,n)\n",
    "\n",
    "p = np.stack((p1,p2,p3), axis = 0)\n",
    "mean_p = np.mean(p, axis = 0)\n",
    "p[:,0 ,0]\n"
   ]
  },
  {
   "cell_type": "markdown",
   "id": "8374ee53-a9a8-4f6f-8c79-fbf15e45b61a",
   "metadata": {},
   "source": [
    "### Ćwiczenie 48: Nieśmiertelne zadanie z BMI"
   ]
  },
  {
   "cell_type": "code",
   "execution_count": 296,
   "id": "71099e08-920c-4eb6-a94f-b811a020aff1",
   "metadata": {},
   "outputs": [
    {
     "data": {
      "text/plain": [
       "array([[ 48.        ,  71.        , 182.        ,  70.21978022],\n",
       "       [ 41.        ,  65.        , 185.        ,  63.24324324],\n",
       "       [ 58.        ,  87.        , 163.        ,  96.07361963],\n",
       "       [ 29.        ,  59.        , 159.        ,  66.79245283],\n",
       "       [ 73.        ,  55.        , 182.        ,  54.3956044 ]])"
      ]
     },
     "execution_count": 296,
     "metadata": {},
     "output_type": "execute_result"
    }
   ],
   "source": [
    "wiek = tablica_jednostajna_nm(5, 1, 20, 80) # lata\n",
    "waga = tablica_jednostajna_nm(5, 1, 50, 100) # kilogramy\n",
    "wzrost = tablica_jednostajna_nm(5, 1, 150, 190) # centymetry\n",
    "people = np.hstack((wiek, waga, wzrost))\n",
    "hm = wzrost / 180\n",
    "bmi = waga / hm\n",
    "\n",
    "ppl_bmi = np.hstack((people, bmi))\n",
    "ppl_bmi"
   ]
  },
  {
   "cell_type": "markdown",
   "id": "4f138e1a-e38d-4938-8a46-345af42875f2",
   "metadata": {},
   "source": [
    "### Ćwiczenie 49: Roczne wyniki sprzedaży\n",
    "Masz tablicę zawierającą wyniki sprzedaży z całego roku (365 dni):"
   ]
  },
  {
   "cell_type": "code",
   "execution_count": 321,
   "id": "3e792824-a43b-4061-a6d7-0ff1372f2473",
   "metadata": {},
   "outputs": [
    {
     "ename": "ValueError",
     "evalue": "setting an array element with a sequence. The requested array has an inhomogeneous shape after 1 dimensions. The detected shape was (12,) + inhomogeneous part.",
     "output_type": "error",
     "traceback": [
      "\u001b[0;31m---------------------------------------------------------------------------\u001b[0m",
      "\u001b[0;31mValueError\u001b[0m                                Traceback (most recent call last)",
      "Cell \u001b[0;32mIn[321], line 3\u001b[0m\n\u001b[1;32m      1\u001b[0m sprzedaz \u001b[38;5;241m=\u001b[39m np\u001b[38;5;241m.\u001b[39mrandom\u001b[38;5;241m.\u001b[39muniform(\u001b[38;5;241m100\u001b[39m, \u001b[38;5;241m200\u001b[39m, size\u001b[38;5;241m=\u001b[39m\u001b[38;5;241m365\u001b[39m)\n\u001b[1;32m      2\u001b[0m months \u001b[38;5;241m=\u001b[39m np\u001b[38;5;241m.\u001b[39marray_split(sprzedaz, \u001b[38;5;241m12\u001b[39m)\n\u001b[0;32m----> 3\u001b[0m avg \u001b[38;5;241m=\u001b[39m np\u001b[38;5;241m.\u001b[39mmean(months, axis\u001b[38;5;241m=\u001b[39m \u001b[38;5;241m1\u001b[39m )\n",
      "File \u001b[0;32m/opt/anaconda3/lib/python3.12/site-packages/numpy/core/fromnumeric.py:3504\u001b[0m, in \u001b[0;36mmean\u001b[0;34m(a, axis, dtype, out, keepdims, where)\u001b[0m\n\u001b[1;32m   3501\u001b[0m     \u001b[38;5;28;01melse\u001b[39;00m:\n\u001b[1;32m   3502\u001b[0m         \u001b[38;5;28;01mreturn\u001b[39;00m mean(axis\u001b[38;5;241m=\u001b[39maxis, dtype\u001b[38;5;241m=\u001b[39mdtype, out\u001b[38;5;241m=\u001b[39mout, \u001b[38;5;241m*\u001b[39m\u001b[38;5;241m*\u001b[39mkwargs)\n\u001b[0;32m-> 3504\u001b[0m \u001b[38;5;28;01mreturn\u001b[39;00m _methods\u001b[38;5;241m.\u001b[39m_mean(a, axis\u001b[38;5;241m=\u001b[39maxis, dtype\u001b[38;5;241m=\u001b[39mdtype,\n\u001b[1;32m   3505\u001b[0m                       out\u001b[38;5;241m=\u001b[39mout, \u001b[38;5;241m*\u001b[39m\u001b[38;5;241m*\u001b[39mkwargs)\n",
      "File \u001b[0;32m/opt/anaconda3/lib/python3.12/site-packages/numpy/core/_methods.py:102\u001b[0m, in \u001b[0;36m_mean\u001b[0;34m(a, axis, dtype, out, keepdims, where)\u001b[0m\n\u001b[1;32m    101\u001b[0m \u001b[38;5;28;01mdef\u001b[39;00m \u001b[38;5;21m_mean\u001b[39m(a, axis\u001b[38;5;241m=\u001b[39m\u001b[38;5;28;01mNone\u001b[39;00m, dtype\u001b[38;5;241m=\u001b[39m\u001b[38;5;28;01mNone\u001b[39;00m, out\u001b[38;5;241m=\u001b[39m\u001b[38;5;28;01mNone\u001b[39;00m, keepdims\u001b[38;5;241m=\u001b[39m\u001b[38;5;28;01mFalse\u001b[39;00m, \u001b[38;5;241m*\u001b[39m, where\u001b[38;5;241m=\u001b[39m\u001b[38;5;28;01mTrue\u001b[39;00m):\n\u001b[0;32m--> 102\u001b[0m     arr \u001b[38;5;241m=\u001b[39m asanyarray(a)\n\u001b[1;32m    104\u001b[0m     is_float16_result \u001b[38;5;241m=\u001b[39m \u001b[38;5;28;01mFalse\u001b[39;00m\n\u001b[1;32m    106\u001b[0m     rcount \u001b[38;5;241m=\u001b[39m _count_reduce_items(arr, axis, keepdims\u001b[38;5;241m=\u001b[39mkeepdims, where\u001b[38;5;241m=\u001b[39mwhere)\n",
      "\u001b[0;31mValueError\u001b[0m: setting an array element with a sequence. The requested array has an inhomogeneous shape after 1 dimensions. The detected shape was (12,) + inhomogeneous part."
     ]
    }
   ],
   "source": [
    "sprzedaz = np.random.uniform(100, 200, size=365)\n",
    "months = np.array_split(sprzedaz, 12)\n",
    "avg = np.mean(months, axis= 1 )\n"
   ]
  },
  {
   "cell_type": "markdown",
   "id": "000da349-dca6-4b08-a298-c43f21419383",
   "metadata": {},
   "source": [
    "## 1.9. Rozszerzanie i powtarzanie tablic"
   ]
  },
  {
   "cell_type": "markdown",
   "id": "5d3d8ebb-d23d-4a22-a0f1-fcf57f8254fb",
   "metadata": {},
   "source": [
    "### Ćwiczenie 50: Szachownica\n",
    "Utwórz wzór szachownicy 2x2:"
   ]
  },
  {
   "cell_type": "code",
   "execution_count": 333,
   "id": "ebb87d14-efbb-443e-9876-559bc434e9a4",
   "metadata": {},
   "outputs": [],
   "source": [
    "wzor = np.array([[1, 0], [0 ,1]])\n",
    "res = np.tile(wzor,(4,4))\n",
    "suma_lg = np.sum(res[0:2, 0:2])"
   ]
  },
  {
   "cell_type": "markdown",
   "id": "b76ac343-6b4d-481c-9265-0760de99ba92",
   "metadata": {},
   "source": [
    "### Ćwiczenie 51: Dane pomiarowe\n",
    "Mamy jednowymiarową tablicę zawierającą dane:"
   ]
  },
  {
   "cell_type": "code",
   "execution_count": 336,
   "id": "ca471d9a-fce7-479b-98bf-75df374dce09",
   "metadata": {},
   "outputs": [],
   "source": [
    "dane = np.array([56, 75, 69, 55, 49, 59, 77, 82])"
   ]
  },
  {
   "cell_type": "markdown",
   "id": "f238cdaf-4bfa-4ead-99d2-8d2e72e4d428",
   "metadata": {},
   "source": [
    "Napisz program, który, doda kolejny wymiar do tablicy, utworzy tablicę z trzema kolejnymi danymi dla każdej\n",
    "wartości używając np.repeat() i doda losowy szum ±2 do powtórzonych danych."
   ]
  },
  {
   "cell_type": "code",
   "execution_count": 351,
   "id": "3afed229-7417-4f88-9927-9323605bc407",
   "metadata": {},
   "outputs": [
    {
     "name": "stdout",
     "output_type": "stream",
     "text": [
      "[[-0.33580041  1.48058008  0.73473582]\n",
      " [-0.63635362  0.26248264  1.4251021 ]\n",
      " [-0.50614698 -1.171712   -1.05920962]\n",
      " [ 1.18031503  0.98090675 -0.18541197]\n",
      " [ 1.91730268 -1.71798363  0.60755818]\n",
      " [-1.52663416 -1.99785952  0.13788126]\n",
      " [ 1.88114638  0.19379233  1.50084819]\n",
      " [-0.1850509   1.84060615  1.93772986]]\n",
      "[[55.66419959 57.48058008 56.73473582]\n",
      " [74.36364638 75.26248264 76.4251021 ]\n",
      " [68.49385302 67.828288   67.94079038]\n",
      " [56.18031503 55.98090675 54.81458803]\n",
      " [50.91730268 47.28201637 49.60755818]\n",
      " [57.47336584 57.00214048 59.13788126]\n",
      " [78.88114638 77.19379233 78.50084819]\n",
      " [81.8149491  83.84060615 83.93772986]]\n"
     ]
    }
   ],
   "source": [
    "dane_2d = dane[:, np.newaxis]\n",
    "dane_rep  = np.repeat(dane_2d, 3, axis = 1)\n",
    "\n",
    "szum = np.random.uniform(-2, 2, dane_rep.shape)\n",
    "print(szum)\n",
    "dane_szum = dane_rep + szum\n",
    "print(dane_szum)"
   ]
  },
  {
   "cell_type": "markdown",
   "id": "282e4216-2f2e-43bc-bbad-b804ae630415",
   "metadata": {},
   "source": [
    "### Ćwiczenie 52: Siatka punktów\n",
    "Mając tablicę wartości x:"
   ]
  },
  {
   "cell_type": "code",
   "execution_count": 354,
   "id": "5134d5f6-6b30-403f-a772-200f9fe15467",
   "metadata": {},
   "outputs": [],
   "source": [
    "x = np.array([1, 2, 3, 4, 5])"
   ]
  },
  {
   "cell_type": "markdown",
   "id": "285cce61-39a3-4631-9df0-b77fc127891c",
   "metadata": {},
   "source": [
    "Napisz program, który utworzy siatkę 5x5 wartości, gdzie każdy wiersz to wartości x, utworzy drugą siatkę 5x5,\n",
    "gdzie każda kolumna to wartości x. Następnie, używając tych siatek, oblicz wartości funkcji 𝑓(𝑥, 𝑦) = 𝑥 ⋅ 𝑦 dla\n",
    "wszystkich punktów siatki."
   ]
  },
  {
   "cell_type": "code",
   "execution_count": 401,
   "id": "67d8bdfa-b051-48b8-af0b-72ddfcc84592",
   "metadata": {},
   "outputs": [
    {
     "name": "stdout",
     "output_type": "stream",
     "text": [
      "[[1 2 3 4 5]\n",
      " [1 2 3 4 5]\n",
      " [1 2 3 4 5]\n",
      " [1 2 3 4 5]\n",
      " [1 2 3 4 5]]\n",
      "[[1 1 1 1 1]\n",
      " [2 2 2 2 2]\n",
      " [3 3 3 3 3]\n",
      " [4 4 4 4 4]\n",
      " [5 5 5 5 5]]\n"
     ]
    }
   ],
   "source": [
    "mesh_x = np.tile(x, (5, 1))\n",
    "mesh_y = np.repeat(x[:,np.newaxis],5 ,axis =1)\n",
    "func = mesh_x * mesh_y\n",
    "\n"
   ]
  },
  {
   "cell_type": "markdown",
   "id": "599bdd17-c844-4df2-a039-32080850c906",
   "metadata": {},
   "source": [
    "### Ćwiczenie 53: Obrazy dla modelu ML\n",
    "Mamy zestaw obrazów w skali szarości, zdefiniowanych następująco:"
   ]
  },
  {
   "cell_type": "code",
   "execution_count": 404,
   "id": "58e97ba0-3d83-4933-b015-bc9f4d4ccbcb",
   "metadata": {},
   "outputs": [],
   "source": [
    "obrazy = np.random.rand(10, 32, 32) # 10 obrazów 32x32 piksele"
   ]
  },
  {
   "cell_type": "markdown",
   "id": "9202e183-c9f5-4feb-a5ac-1a954e5c191b",
   "metadata": {},
   "source": [
    "Napisz program, który doda wymiar kanału koloru do każdego obrazu (zmieniając kształt na (10,28,28,1)), stworzy\n",
    "kopię każdego obrazu z obrotem o 90 stopni i połączy oryginalne i obrócone obrazy w jeden zestaw danych\n",
    "(łączenie względem osi 0)."
   ]
  },
  {
   "cell_type": "code",
   "execution_count": 413,
   "id": "40dade09-1a79-426b-a043-ff7fbcc8d9dc",
   "metadata": {},
   "outputs": [],
   "source": [
    "obraz_4d = obrazy[:,:,:,np.newaxis]\n",
    "rotated = np.rot90(obraz_4d, k=1, axes=(1,2))"
   ]
  }
 ],
 "metadata": {
  "kernelspec": {
   "display_name": "Python [conda env:base] *",
   "language": "python",
   "name": "conda-base-py"
  },
  "language_info": {
   "codemirror_mode": {
    "name": "ipython",
    "version": 3
   },
   "file_extension": ".py",
   "mimetype": "text/x-python",
   "name": "python",
   "nbconvert_exporter": "python",
   "pygments_lexer": "ipython3",
   "version": "3.12.7"
  }
 },
 "nbformat": 4,
 "nbformat_minor": 5
}
