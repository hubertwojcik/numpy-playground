{
 "cells": [
  {
   "cell_type": "markdown",
   "id": "4b079275",
   "metadata": {},
   "source": [
    "## 1.1. Podstawowe struktury danych"
   ]
  },
  {
   "cell_type": "code",
   "execution_count": 1,
   "id": "b65007a7",
   "metadata": {},
   "outputs": [],
   "source": [
    "import numpy as np"
   ]
  },
  {
   "cell_type": "markdown",
   "id": "9c50ca5a",
   "metadata": {},
   "source": [
    "### Ćwiczenie 1: Tworzenie jednowymiarowej tablicy\n",
    "Stwórz jednowymiarową tablicę NumPy zawierającą liczby całkowite od 10 do 20 włącznie. Skorzystaj z funkcji\n",
    "np.arange()."
   ]
  },
  {
   "cell_type": "code",
   "execution_count": 2,
   "id": "94f0d648",
   "metadata": {},
   "outputs": [
    {
     "name": "stdout",
     "output_type": "stream",
     "text": [
      "[10 11 12 13 14 15 16 17 18 19 20]\n"
     ]
    }
   ],
   "source": [
    "arr = np.arange(10,21)\n",
    "print(arr)"
   ]
  },
  {
   "cell_type": "markdown",
   "id": "8d88a54e",
   "metadata": {},
   "source": [
    "### Ćwiczenie 2: Tworzenie tablicy wielowymiarowej\n",
    "Utwórz dwuwymiarową tablicę o wymiarach 3x4, wypełnioną liczbami zmiennoprzecinkowymi od 1.0 do 12.0.\n",
    "Możesz użyć funkcji np.reshape()."
   ]
  },
  {
   "cell_type": "code",
   "execution_count": null,
   "id": "03fdd27d",
   "metadata": {},
   "outputs": [],
   "source": [
    "arr = np.arange(1,13, dtype=float).reshape(3,4)"
   ]
  }
 ],
 "metadata": {
  "kernelspec": {
   "display_name": "base",
   "language": "python",
   "name": "python3"
  },
  "language_info": {
   "codemirror_mode": {
    "name": "ipython",
    "version": 3
   },
   "file_extension": ".py",
   "mimetype": "text/x-python",
   "name": "python",
   "nbconvert_exporter": "python",
   "pygments_lexer": "ipython3",
   "version": "3.12.7"
  }
 },
 "nbformat": 4,
 "nbformat_minor": 5
}
